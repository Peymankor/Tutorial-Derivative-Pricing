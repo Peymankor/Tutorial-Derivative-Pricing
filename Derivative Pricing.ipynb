{
 "cells": [
  {
   "cell_type": "markdown",
   "metadata": {},
   "source": [
    "# LSM Approach"
   ]
  },
  {
   "cell_type": "markdown",
   "metadata": {},
   "source": [
    "## Reproducing \"A Numerical Example\" of LSM Paper\n",
    "Link to the paper: (Longstaff & Schwartz, 2001)[https://people.math.ethz.ch/~hjfurrer/teaching/LongstaffSchwartzAmericanOptionsLeastSquareMonteCarlo.pdf]"
   ]
  },
  {
   "cell_type": "markdown",
   "metadata": {},
   "source": [
    "### Building the table of Stock price paths"
   ]
  },
  {
   "cell_type": "code",
   "execution_count": 1,
   "metadata": {},
   "outputs": [],
   "source": [
    "import numpy as np\n",
    "import pandas as pd"
   ]
  },
  {
   "cell_type": "code",
   "execution_count": 4,
   "metadata": {},
   "outputs": [],
   "source": [
    "# We generate the prices in eight paths, according to the table of LSM paper\n",
    "# eight paths\n",
    "path_1 = np.array([1.00, 1.09, 1.08, 1.34])\n",
    "path_2 = np.array([1.00, 1.16, 1.26, 1.54])\n",
    "path_3 = np.array([1.00, 1.22, 1.07, 1.03])\n",
    "path_4 = np.array([1.00, 0.93, 0.97, 0.92])\n",
    "path_5 = np.array([1.00, 1.11, 1.56, 1.52])\n",
    "path_6 = np.array([1.00, 0.76, 0.77, 0.90])\n",
    "path_7 = np.array([1.00, 0.92, 0.84, 1.01])\n",
    "path_8 = np.array([1.00, 0.88, 1.22, 1.34])"
   ]
  },
  {
   "cell_type": "code",
   "execution_count": 3,
   "metadata": {},
   "outputs": [
    {
     "data": {
      "text/html": [
       "<div>\n",
       "<style scoped>\n",
       "    .dataframe tbody tr th:only-of-type {\n",
       "        vertical-align: middle;\n",
       "    }\n",
       "\n",
       "    .dataframe tbody tr th {\n",
       "        vertical-align: top;\n",
       "    }\n",
       "\n",
       "    .dataframe thead th {\n",
       "        text-align: right;\n",
       "    }\n",
       "</style>\n",
       "<table border=\"1\" class=\"dataframe\">\n",
       "  <thead>\n",
       "    <tr style=\"text-align: right;\">\n",
       "      <th></th>\n",
       "      <th>t=0</th>\n",
       "      <th>t=1</th>\n",
       "      <th>t=2</th>\n",
       "      <th>t=3</th>\n",
       "    </tr>\n",
       "    <tr>\n",
       "      <th>Path</th>\n",
       "      <th></th>\n",
       "      <th></th>\n",
       "      <th></th>\n",
       "      <th></th>\n",
       "    </tr>\n",
       "  </thead>\n",
       "  <tbody>\n",
       "    <tr>\n",
       "      <th>1</th>\n",
       "      <td>1.0</td>\n",
       "      <td>1.09</td>\n",
       "      <td>1.08</td>\n",
       "      <td>1.34</td>\n",
       "    </tr>\n",
       "    <tr>\n",
       "      <th>2</th>\n",
       "      <td>1.0</td>\n",
       "      <td>1.16</td>\n",
       "      <td>1.26</td>\n",
       "      <td>1.54</td>\n",
       "    </tr>\n",
       "    <tr>\n",
       "      <th>3</th>\n",
       "      <td>1.0</td>\n",
       "      <td>1.22</td>\n",
       "      <td>1.07</td>\n",
       "      <td>1.03</td>\n",
       "    </tr>\n",
       "    <tr>\n",
       "      <th>4</th>\n",
       "      <td>1.0</td>\n",
       "      <td>0.93</td>\n",
       "      <td>0.97</td>\n",
       "      <td>0.92</td>\n",
       "    </tr>\n",
       "    <tr>\n",
       "      <th>5</th>\n",
       "      <td>1.0</td>\n",
       "      <td>1.11</td>\n",
       "      <td>1.56</td>\n",
       "      <td>1.52</td>\n",
       "    </tr>\n",
       "    <tr>\n",
       "      <th>6</th>\n",
       "      <td>1.0</td>\n",
       "      <td>0.76</td>\n",
       "      <td>0.77</td>\n",
       "      <td>0.90</td>\n",
       "    </tr>\n",
       "    <tr>\n",
       "      <th>7</th>\n",
       "      <td>1.0</td>\n",
       "      <td>0.92</td>\n",
       "      <td>0.84</td>\n",
       "      <td>1.01</td>\n",
       "    </tr>\n",
       "    <tr>\n",
       "      <th>8</th>\n",
       "      <td>1.0</td>\n",
       "      <td>0.88</td>\n",
       "      <td>1.22</td>\n",
       "      <td>1.34</td>\n",
       "    </tr>\n",
       "  </tbody>\n",
       "</table>\n",
       "</div>"
      ],
      "text/plain": [
       "      t=0   t=1   t=2   t=3\n",
       "Path                       \n",
       "1     1.0  1.09  1.08  1.34\n",
       "2     1.0  1.16  1.26  1.54\n",
       "3     1.0  1.22  1.07  1.03\n",
       "4     1.0  0.93  0.97  0.92\n",
       "5     1.0  1.11  1.56  1.52\n",
       "6     1.0  0.76  0.77  0.90\n",
       "7     1.0  0.92  0.84  1.01\n",
       "8     1.0  0.88  1.22  1.34"
      ]
     },
     "execution_count": 3,
     "metadata": {},
     "output_type": "execute_result"
    }
   ],
   "source": [
    "price_paths = [path_1, path_2, path_3, path_4, \n",
    "            path_5, path_6, path_7,path_8]\n",
    "            \n",
    "S = pd.DataFrame(data=price_paths,\n",
    "                index=np.arange(1,8+1), \n",
    "                columns=[\"t=0\",\"t=1\", \"t=2\", \"t=3\"])\n",
    "\n",
    "S.index.name = \"Path\"\n",
    "\n",
    "S"
   ]
  },
  {
   "cell_type": "markdown",
   "metadata": {},
   "source": [
    "### Cash- flow matrix at time 3"
   ]
  },
  {
   "cell_type": "code",
   "execution_count": 8,
   "metadata": {},
   "outputs": [
    {
     "data": {
      "text/html": [
       "<div>\n",
       "<style scoped>\n",
       "    .dataframe tbody tr th:only-of-type {\n",
       "        vertical-align: middle;\n",
       "    }\n",
       "\n",
       "    .dataframe tbody tr th {\n",
       "        vertical-align: top;\n",
       "    }\n",
       "\n",
       "    .dataframe thead th {\n",
       "        text-align: right;\n",
       "    }\n",
       "</style>\n",
       "<table border=\"1\" class=\"dataframe\">\n",
       "  <thead>\n",
       "    <tr style=\"text-align: right;\">\n",
       "      <th></th>\n",
       "      <th>t=0</th>\n",
       "      <th>t=1</th>\n",
       "      <th>t=2</th>\n",
       "      <th>t=3</th>\n",
       "    </tr>\n",
       "    <tr>\n",
       "      <th>Path</th>\n",
       "      <th></th>\n",
       "      <th></th>\n",
       "      <th></th>\n",
       "      <th></th>\n",
       "    </tr>\n",
       "  </thead>\n",
       "  <tbody>\n",
       "    <tr>\n",
       "      <th>1</th>\n",
       "      <td>NA</td>\n",
       "      <td>NA</td>\n",
       "      <td>NA</td>\n",
       "      <td>0.00</td>\n",
       "    </tr>\n",
       "    <tr>\n",
       "      <th>2</th>\n",
       "      <td>NA</td>\n",
       "      <td>NA</td>\n",
       "      <td>NA</td>\n",
       "      <td>0.00</td>\n",
       "    </tr>\n",
       "    <tr>\n",
       "      <th>3</th>\n",
       "      <td>NA</td>\n",
       "      <td>NA</td>\n",
       "      <td>NA</td>\n",
       "      <td>0.07</td>\n",
       "    </tr>\n",
       "    <tr>\n",
       "      <th>4</th>\n",
       "      <td>NA</td>\n",
       "      <td>NA</td>\n",
       "      <td>NA</td>\n",
       "      <td>0.18</td>\n",
       "    </tr>\n",
       "    <tr>\n",
       "      <th>5</th>\n",
       "      <td>NA</td>\n",
       "      <td>NA</td>\n",
       "      <td>NA</td>\n",
       "      <td>0.00</td>\n",
       "    </tr>\n",
       "    <tr>\n",
       "      <th>6</th>\n",
       "      <td>NA</td>\n",
       "      <td>NA</td>\n",
       "      <td>NA</td>\n",
       "      <td>0.20</td>\n",
       "    </tr>\n",
       "    <tr>\n",
       "      <th>7</th>\n",
       "      <td>NA</td>\n",
       "      <td>NA</td>\n",
       "      <td>NA</td>\n",
       "      <td>0.09</td>\n",
       "    </tr>\n",
       "    <tr>\n",
       "      <th>8</th>\n",
       "      <td>NA</td>\n",
       "      <td>NA</td>\n",
       "      <td>NA</td>\n",
       "      <td>0.00</td>\n",
       "    </tr>\n",
       "  </tbody>\n",
       "</table>\n",
       "</div>"
      ],
      "text/plain": [
       "     t=0 t=1 t=2   t=3\n",
       "Path                  \n",
       "1     NA  NA  NA  0.00\n",
       "2     NA  NA  NA  0.00\n",
       "3     NA  NA  NA  0.07\n",
       "4     NA  NA  NA  0.18\n",
       "5     NA  NA  NA  0.00\n",
       "6     NA  NA  NA  0.20\n",
       "7     NA  NA  NA  0.09\n",
       "8     NA  NA  NA  0.00"
      ]
     },
     "execution_count": 8,
     "metadata": {},
     "output_type": "execute_result"
    }
   ],
   "source": [
    "K = 1.10                              # Strike Price\n",
    "\n",
    "# cf is the short version for Cash-flow matrix\n",
    "\n",
    "cf = np.maximum(K - S, 0)             # exercising the Put option at t=3\n",
    "\n",
    "# Except the last column, other values are NA\n",
    "cf.loc[:, cf.columns != 't=3'] = \"NA\"\n",
    "cf"
   ]
  },
  {
   "cell_type": "markdown",
   "metadata": {},
   "source": [
    "### Regression at Time t=2"
   ]
  },
  {
   "cell_type": "code",
   "execution_count": 9,
   "metadata": {},
   "outputs": [],
   "source": [
    "df = np.exp(-0.06 * 1)          # dicount factor based on 6% riskless rate\n",
    "table_t_2 = pd.DataFrame({\"Y\":cf[\"t=3\"]*df, \"X\":S[\"t=2\"]})   # This is a table for all the path\n"
   ]
  },
  {
   "cell_type": "markdown",
   "metadata": {},
   "source": [
    "- We need the in-money paths: In the Money Paths:"
   ]
  },
  {
   "cell_type": "code",
   "execution_count": 11,
   "metadata": {},
   "outputs": [
    {
     "data": {
      "text/html": [
       "<div>\n",
       "<style scoped>\n",
       "    .dataframe tbody tr th:only-of-type {\n",
       "        vertical-align: middle;\n",
       "    }\n",
       "\n",
       "    .dataframe tbody tr th {\n",
       "        vertical-align: top;\n",
       "    }\n",
       "\n",
       "    .dataframe thead th {\n",
       "        text-align: right;\n",
       "    }\n",
       "</style>\n",
       "<table border=\"1\" class=\"dataframe\">\n",
       "  <thead>\n",
       "    <tr style=\"text-align: right;\">\n",
       "      <th></th>\n",
       "      <th>Y</th>\n",
       "      <th>X</th>\n",
       "    </tr>\n",
       "    <tr>\n",
       "      <th>Path</th>\n",
       "      <th></th>\n",
       "      <th></th>\n",
       "    </tr>\n",
       "  </thead>\n",
       "  <tbody>\n",
       "    <tr>\n",
       "      <th>1</th>\n",
       "      <td>0.000000</td>\n",
       "      <td>1.08</td>\n",
       "    </tr>\n",
       "    <tr>\n",
       "      <th>3</th>\n",
       "      <td>0.065924</td>\n",
       "      <td>1.07</td>\n",
       "    </tr>\n",
       "    <tr>\n",
       "      <th>4</th>\n",
       "      <td>0.169518</td>\n",
       "      <td>0.97</td>\n",
       "    </tr>\n",
       "    <tr>\n",
       "      <th>6</th>\n",
       "      <td>0.188353</td>\n",
       "      <td>0.77</td>\n",
       "    </tr>\n",
       "    <tr>\n",
       "      <th>7</th>\n",
       "      <td>0.084759</td>\n",
       "      <td>0.84</td>\n",
       "    </tr>\n",
       "  </tbody>\n",
       "</table>\n",
       "</div>"
      ],
      "text/plain": [
       "             Y     X\n",
       "Path                \n",
       "1     0.000000  1.08\n",
       "3     0.065924  1.07\n",
       "4     0.169518  0.97\n",
       "6     0.188353  0.77\n",
       "7     0.084759  0.84"
      ]
     },
     "execution_count": 11,
     "metadata": {},
     "output_type": "execute_result"
    }
   ],
   "source": [
    "id_money_t_2 = S[S.iloc[:, 2] < K].index\n",
    "table_t_2_inmoney=table_t_2.loc[id_money_t_2]\n",
    "table_t_2_inmoney"
   ]
  },
  {
   "cell_type": "markdown",
   "metadata": {},
   "source": [
    "- Regression of the X and Y at time 2 "
   ]
  },
  {
   "cell_type": "code",
   "execution_count": 12,
   "metadata": {},
   "outputs": [
    {
     "name": "stdout",
     "output_type": "stream",
     "text": [
      "The Conditional Expectaion function is -1.070 + 2.983X -1.814X^2\n"
     ]
    }
   ],
   "source": [
    "rg_t_2 = np.polyfit(table_t_2_inmoney[\"X\"], table_t_2_inmoney[\"Y\"], 2)\n",
    "\n",
    "print(\"The Conditional Expectaion function is %.3f + %.3fX %.3fX^2\" % \n",
    "                                (rg_t_2[2], rg_t_2[1], rg_t_2[0]))"
   ]
  },
  {
   "cell_type": "markdown",
   "metadata": {},
   "source": [
    "### Optimal early exercise decision at time 2"
   ]
  },
  {
   "cell_type": "code",
   "execution_count": 22,
   "metadata": {},
   "outputs": [
    {
     "data": {
      "text/html": [
       "<div>\n",
       "<style scoped>\n",
       "    .dataframe tbody tr th:only-of-type {\n",
       "        vertical-align: middle;\n",
       "    }\n",
       "\n",
       "    .dataframe tbody tr th {\n",
       "        vertical-align: top;\n",
       "    }\n",
       "\n",
       "    .dataframe thead th {\n",
       "        text-align: right;\n",
       "    }\n",
       "</style>\n",
       "<table border=\"1\" class=\"dataframe\">\n",
       "  <thead>\n",
       "    <tr style=\"text-align: right;\">\n",
       "      <th></th>\n",
       "      <th>Exercise</th>\n",
       "      <th>Continution</th>\n",
       "    </tr>\n",
       "    <tr>\n",
       "      <th>Path</th>\n",
       "      <th></th>\n",
       "      <th></th>\n",
       "    </tr>\n",
       "  </thead>\n",
       "  <tbody>\n",
       "    <tr>\n",
       "      <th>1</th>\n",
       "      <td>0.02</td>\n",
       "      <td>0.0367</td>\n",
       "    </tr>\n",
       "    <tr>\n",
       "      <th>3</th>\n",
       "      <td>0.03</td>\n",
       "      <td>0.0459</td>\n",
       "    </tr>\n",
       "    <tr>\n",
       "      <th>4</th>\n",
       "      <td>0.13</td>\n",
       "      <td>0.1175</td>\n",
       "    </tr>\n",
       "    <tr>\n",
       "      <th>6</th>\n",
       "      <td>0.33</td>\n",
       "      <td>0.1520</td>\n",
       "    </tr>\n",
       "    <tr>\n",
       "      <th>7</th>\n",
       "      <td>0.26</td>\n",
       "      <td>0.1564</td>\n",
       "    </tr>\n",
       "  </tbody>\n",
       "</table>\n",
       "</div>"
      ],
      "text/plain": [
       "      Exercise  Continution\n",
       "Path                       \n",
       "1         0.02       0.0367\n",
       "3         0.03       0.0459\n",
       "4         0.13       0.1175\n",
       "6         0.33       0.1520\n",
       "7         0.26       0.1564"
      ]
     },
     "execution_count": 22,
     "metadata": {},
     "output_type": "execute_result"
    }
   ],
   "source": [
    "# Here we use our regression model to predict continutaion value at time t=2 (c_t_2)\n",
    "C_t_2 = np.polyval(rg_t_2, S.loc[id_money_t_2,\"t=2\"])\n",
    "\n",
    "# The Exercise payoff is \"K- S.loc[id_money_t_2, \"t=2\"]\" while Continutaion C_2_t\n",
    "Opt_dec_org = pd.DataFrame(data={\"Exercise\":K- S.loc[id_money_t_2, \"t=2\"],\n",
    "                            \"Continution\":C_t_2})\n",
    "\n",
    "Opt_dec = Opt_dec_org.round(4) \n",
    "Opt_dec\n"
   ]
  },
  {
   "cell_type": "markdown",
   "metadata": {},
   "source": [
    "- Cash flow matrix at time=2 "
   ]
  },
  {
   "cell_type": "code",
   "execution_count": 30,
   "metadata": {},
   "outputs": [
    {
     "data": {
      "text/html": [
       "<div>\n",
       "<style scoped>\n",
       "    .dataframe tbody tr th:only-of-type {\n",
       "        vertical-align: middle;\n",
       "    }\n",
       "\n",
       "    .dataframe tbody tr th {\n",
       "        vertical-align: top;\n",
       "    }\n",
       "\n",
       "    .dataframe thead th {\n",
       "        text-align: right;\n",
       "    }\n",
       "</style>\n",
       "<table border=\"1\" class=\"dataframe\">\n",
       "  <thead>\n",
       "    <tr style=\"text-align: right;\">\n",
       "      <th></th>\n",
       "      <th>t=0</th>\n",
       "      <th>t=1</th>\n",
       "      <th>t=2</th>\n",
       "      <th>t=3</th>\n",
       "    </tr>\n",
       "    <tr>\n",
       "      <th>Path</th>\n",
       "      <th></th>\n",
       "      <th></th>\n",
       "      <th></th>\n",
       "      <th></th>\n",
       "    </tr>\n",
       "  </thead>\n",
       "  <tbody>\n",
       "    <tr>\n",
       "      <th>1</th>\n",
       "      <td>0.1</td>\n",
       "      <td>0.01</td>\n",
       "      <td>0.00</td>\n",
       "      <td>0.00</td>\n",
       "    </tr>\n",
       "    <tr>\n",
       "      <th>2</th>\n",
       "      <td>0.1</td>\n",
       "      <td>0.00</td>\n",
       "      <td>0.00</td>\n",
       "      <td>0.00</td>\n",
       "    </tr>\n",
       "    <tr>\n",
       "      <th>3</th>\n",
       "      <td>0.1</td>\n",
       "      <td>0.00</td>\n",
       "      <td>0.00</td>\n",
       "      <td>0.07</td>\n",
       "    </tr>\n",
       "    <tr>\n",
       "      <th>4</th>\n",
       "      <td>0.1</td>\n",
       "      <td>0.17</td>\n",
       "      <td>0.13</td>\n",
       "      <td>0.00</td>\n",
       "    </tr>\n",
       "    <tr>\n",
       "      <th>5</th>\n",
       "      <td>0.1</td>\n",
       "      <td>0.00</td>\n",
       "      <td>0.00</td>\n",
       "      <td>0.00</td>\n",
       "    </tr>\n",
       "    <tr>\n",
       "      <th>6</th>\n",
       "      <td>0.1</td>\n",
       "      <td>0.34</td>\n",
       "      <td>0.33</td>\n",
       "      <td>0.00</td>\n",
       "    </tr>\n",
       "    <tr>\n",
       "      <th>7</th>\n",
       "      <td>0.1</td>\n",
       "      <td>0.18</td>\n",
       "      <td>0.26</td>\n",
       "      <td>0.00</td>\n",
       "    </tr>\n",
       "    <tr>\n",
       "      <th>8</th>\n",
       "      <td>0.1</td>\n",
       "      <td>0.22</td>\n",
       "      <td>0.00</td>\n",
       "      <td>0.00</td>\n",
       "    </tr>\n",
       "  </tbody>\n",
       "</table>\n",
       "</div>"
      ],
      "text/plain": [
       "      t=0   t=1   t=2   t=3\n",
       "Path                       \n",
       "1     0.1  0.01  0.00  0.00\n",
       "2     0.1  0.00  0.00  0.00\n",
       "3     0.1  0.00  0.00  0.07\n",
       "4     0.1  0.17  0.13  0.00\n",
       "5     0.1  0.00  0.00  0.00\n",
       "6     0.1  0.34  0.33  0.00\n",
       "7     0.1  0.18  0.26  0.00\n",
       "8     0.1  0.22  0.00  0.00"
      ]
     },
     "execution_count": 30,
     "metadata": {},
     "output_type": "execute_result"
    }
   ],
   "source": [
    "cf.loc[id_money_t_2,\"t=2\"] = np.where(cf.loc[id_money_t_2,\"t=2\"] > C_t_2, \n",
    "    cf.loc[id_money_t_2,\"t=2\"], 0)\n",
    "\n",
    "cf.loc[id_money_t_2,\"t=3\"] = np.where(cf.loc[id_money_t_2,\"t=2\"] > 0, \n",
    "    0, cf.loc[id_money_t_2,\"t=3\"])\n",
    "cf"
   ]
  },
  {
   "cell_type": "markdown",
   "metadata": {},
   "source": [
    "### Regression at Time t=1"
   ]
  },
  {
   "cell_type": "code",
   "execution_count": 31,
   "metadata": {},
   "outputs": [
    {
     "data": {
      "text/html": [
       "<div>\n",
       "<style scoped>\n",
       "    .dataframe tbody tr th:only-of-type {\n",
       "        vertical-align: middle;\n",
       "    }\n",
       "\n",
       "    .dataframe tbody tr th {\n",
       "        vertical-align: top;\n",
       "    }\n",
       "\n",
       "    .dataframe thead th {\n",
       "        text-align: right;\n",
       "    }\n",
       "</style>\n",
       "<table border=\"1\" class=\"dataframe\">\n",
       "  <thead>\n",
       "    <tr style=\"text-align: right;\">\n",
       "      <th></th>\n",
       "      <th>Y</th>\n",
       "      <th>X</th>\n",
       "    </tr>\n",
       "    <tr>\n",
       "      <th>Path</th>\n",
       "      <th></th>\n",
       "      <th></th>\n",
       "    </tr>\n",
       "  </thead>\n",
       "  <tbody>\n",
       "    <tr>\n",
       "      <th>1</th>\n",
       "      <td>0.000000</td>\n",
       "      <td>1.09</td>\n",
       "    </tr>\n",
       "    <tr>\n",
       "      <th>4</th>\n",
       "      <td>0.122429</td>\n",
       "      <td>0.93</td>\n",
       "    </tr>\n",
       "    <tr>\n",
       "      <th>6</th>\n",
       "      <td>0.310782</td>\n",
       "      <td>0.76</td>\n",
       "    </tr>\n",
       "    <tr>\n",
       "      <th>7</th>\n",
       "      <td>0.244859</td>\n",
       "      <td>0.92</td>\n",
       "    </tr>\n",
       "    <tr>\n",
       "      <th>8</th>\n",
       "      <td>0.000000</td>\n",
       "      <td>0.88</td>\n",
       "    </tr>\n",
       "  </tbody>\n",
       "</table>\n",
       "</div>"
      ],
      "text/plain": [
       "             Y     X\n",
       "Path                \n",
       "1     0.000000  1.09\n",
       "4     0.122429  0.93\n",
       "6     0.310782  0.76\n",
       "7     0.244859  0.92\n",
       "8     0.000000  0.88"
      ]
     },
     "execution_count": 31,
     "metadata": {},
     "output_type": "execute_result"
    }
   ],
   "source": [
    "table_t_1 = pd.DataFrame({\"Y\":cf[\"t=2\"]*df, \"X\":S[\"t=1\"]})   # This is a table for all the path\n",
    "id_money_t_1 = S[S.iloc[:, 1] < K].index\n",
    "table_t_1_inmoney=table_t_1.loc[id_money_t_1]\n",
    "table_t_1_inmoney"
   ]
  },
  {
   "cell_type": "code",
   "execution_count": 32,
   "metadata": {},
   "outputs": [
    {
     "name": "stdout",
     "output_type": "stream",
     "text": [
      "The Conditional Expectaion function is 2.038  -3.335X 1.356X^2\n"
     ]
    }
   ],
   "source": [
    "rg_t_1 = np.polyfit(table_t_1_inmoney[\"X\"], table_t_1_inmoney[\"Y\"], 2)\n",
    "\n",
    "print(\"The Conditional Expectaion function is %.3f  %.3fX %.3fX^2\" % \n",
    "                                (rg_t_1[2], rg_t_1[1], rg_t_1[0]))"
   ]
  },
  {
   "cell_type": "code",
   "execution_count": 33,
   "metadata": {},
   "outputs": [
    {
     "data": {
      "text/html": [
       "<div>\n",
       "<style scoped>\n",
       "    .dataframe tbody tr th:only-of-type {\n",
       "        vertical-align: middle;\n",
       "    }\n",
       "\n",
       "    .dataframe tbody tr th {\n",
       "        vertical-align: top;\n",
       "    }\n",
       "\n",
       "    .dataframe thead th {\n",
       "        text-align: right;\n",
       "    }\n",
       "</style>\n",
       "<table border=\"1\" class=\"dataframe\">\n",
       "  <thead>\n",
       "    <tr style=\"text-align: right;\">\n",
       "      <th></th>\n",
       "      <th>Exercise</th>\n",
       "      <th>Continution</th>\n",
       "    </tr>\n",
       "    <tr>\n",
       "      <th>Path</th>\n",
       "      <th></th>\n",
       "      <th></th>\n",
       "    </tr>\n",
       "  </thead>\n",
       "  <tbody>\n",
       "    <tr>\n",
       "      <th>1</th>\n",
       "      <td>0.01</td>\n",
       "      <td>0.0139</td>\n",
       "    </tr>\n",
       "    <tr>\n",
       "      <th>4</th>\n",
       "      <td>0.17</td>\n",
       "      <td>0.1093</td>\n",
       "    </tr>\n",
       "    <tr>\n",
       "      <th>6</th>\n",
       "      <td>0.34</td>\n",
       "      <td>0.2866</td>\n",
       "    </tr>\n",
       "    <tr>\n",
       "      <th>7</th>\n",
       "      <td>0.18</td>\n",
       "      <td>0.1175</td>\n",
       "    </tr>\n",
       "    <tr>\n",
       "      <th>8</th>\n",
       "      <td>0.22</td>\n",
       "      <td>0.1533</td>\n",
       "    </tr>\n",
       "  </tbody>\n",
       "</table>\n",
       "</div>"
      ],
      "text/plain": [
       "      Exercise  Continution\n",
       "Path                       \n",
       "1         0.01       0.0139\n",
       "4         0.17       0.1093\n",
       "6         0.34       0.2866\n",
       "7         0.18       0.1175\n",
       "8         0.22       0.1533"
      ]
     },
     "execution_count": 33,
     "metadata": {},
     "output_type": "execute_result"
    }
   ],
   "source": [
    "C_t_1 = np.polyval(rg_t_1.round(3), S.loc[id_money_t_1].iloc[:,1])\n",
    "\n",
    "Opt_dec_org_t_1 = pd.DataFrame(data={\"Exercise\":K-S.loc[id_money_t_1, \"t=1\"],\n",
    "                            \"Continution\":C_t_1})\n",
    "Opt_dec_t_1 = Opt_dec_org_t_1.round(4) \n",
    "Opt_dec_t_1"
   ]
  },
  {
   "cell_type": "code",
   "execution_count": 38,
   "metadata": {},
   "outputs": [
    {
     "data": {
      "text/html": [
       "<div>\n",
       "<style scoped>\n",
       "    .dataframe tbody tr th:only-of-type {\n",
       "        vertical-align: middle;\n",
       "    }\n",
       "\n",
       "    .dataframe tbody tr th {\n",
       "        vertical-align: top;\n",
       "    }\n",
       "\n",
       "    .dataframe thead th {\n",
       "        text-align: right;\n",
       "    }\n",
       "</style>\n",
       "<table border=\"1\" class=\"dataframe\">\n",
       "  <thead>\n",
       "    <tr style=\"text-align: right;\">\n",
       "      <th></th>\n",
       "      <th>t=0</th>\n",
       "      <th>t=1</th>\n",
       "      <th>t=2</th>\n",
       "      <th>t=3</th>\n",
       "    </tr>\n",
       "    <tr>\n",
       "      <th>Path</th>\n",
       "      <th></th>\n",
       "      <th></th>\n",
       "      <th></th>\n",
       "      <th></th>\n",
       "    </tr>\n",
       "  </thead>\n",
       "  <tbody>\n",
       "    <tr>\n",
       "      <th>1</th>\n",
       "      <td>0.1</td>\n",
       "      <td>0.00</td>\n",
       "      <td>0.0</td>\n",
       "      <td>0.00</td>\n",
       "    </tr>\n",
       "    <tr>\n",
       "      <th>2</th>\n",
       "      <td>0.1</td>\n",
       "      <td>0.00</td>\n",
       "      <td>0.0</td>\n",
       "      <td>0.00</td>\n",
       "    </tr>\n",
       "    <tr>\n",
       "      <th>3</th>\n",
       "      <td>0.1</td>\n",
       "      <td>0.00</td>\n",
       "      <td>0.0</td>\n",
       "      <td>0.07</td>\n",
       "    </tr>\n",
       "    <tr>\n",
       "      <th>4</th>\n",
       "      <td>0.1</td>\n",
       "      <td>0.17</td>\n",
       "      <td>0.0</td>\n",
       "      <td>0.00</td>\n",
       "    </tr>\n",
       "    <tr>\n",
       "      <th>5</th>\n",
       "      <td>0.1</td>\n",
       "      <td>0.00</td>\n",
       "      <td>0.0</td>\n",
       "      <td>0.00</td>\n",
       "    </tr>\n",
       "    <tr>\n",
       "      <th>6</th>\n",
       "      <td>0.1</td>\n",
       "      <td>0.34</td>\n",
       "      <td>0.0</td>\n",
       "      <td>0.00</td>\n",
       "    </tr>\n",
       "    <tr>\n",
       "      <th>7</th>\n",
       "      <td>0.1</td>\n",
       "      <td>0.18</td>\n",
       "      <td>0.0</td>\n",
       "      <td>0.00</td>\n",
       "    </tr>\n",
       "    <tr>\n",
       "      <th>8</th>\n",
       "      <td>0.1</td>\n",
       "      <td>0.22</td>\n",
       "      <td>0.0</td>\n",
       "      <td>0.00</td>\n",
       "    </tr>\n",
       "  </tbody>\n",
       "</table>\n",
       "</div>"
      ],
      "text/plain": [
       "      t=0   t=1  t=2   t=3\n",
       "Path                      \n",
       "1     0.1  0.00  0.0  0.00\n",
       "2     0.1  0.00  0.0  0.00\n",
       "3     0.1  0.00  0.0  0.07\n",
       "4     0.1  0.17  0.0  0.00\n",
       "5     0.1  0.00  0.0  0.00\n",
       "6     0.1  0.34  0.0  0.00\n",
       "7     0.1  0.18  0.0  0.00\n",
       "8     0.1  0.22  0.0  0.00"
      ]
     },
     "execution_count": 38,
     "metadata": {},
     "output_type": "execute_result"
    }
   ],
   "source": [
    "cf.loc[id_money_t_1,\"t=1\"] = np.where(cf.loc[id_money_t_1,\"t=1\"] > C_t_1, \n",
    "    cf.loc[id_money_t_1,\"t=1\"], 0)\n",
    "    \n",
    "cf.loc[id_money_t_2,\"t=2\"] = np.where(cf.loc[id_money_t_1,\"t=1\"] > 0, \n",
    "    0, cf.loc[id_money_t_1,\"t=2\"])\n",
    "cf"
   ]
  },
  {
   "cell_type": "markdown",
   "metadata": {},
   "source": [
    "- Dicount the time and average of all the paths to arrive value of option at time=0 "
   ]
  },
  {
   "cell_type": "code",
   "execution_count": 48,
   "metadata": {},
   "outputs": [
    {
     "name": "stdout",
     "output_type": "stream",
     "text": [
      "The value of American Put Option is: 0.1144\n"
     ]
    }
   ],
   "source": [
    "DCF_all_paths = cf[\"t=1\"]*df + cf[\"t=2\"]*df**2 + cf[\"t=3\"]*df**3\n",
    "\n",
    "Option_Value = sum(DCF_all_paths)/8\n",
    "\n",
    "print(\"The value of American Put Option is: %.4f\" % (Option_Value))"
   ]
  },
  {
   "cell_type": "markdown",
   "metadata": {},
   "source": [
    "## Main Big loop:"
   ]
  },
  {
   "cell_type": "code",
   "execution_count": 94,
   "metadata": {},
   "outputs": [],
   "source": [
    "# eight paths\n",
    "path_1 = np.array([1.00, 1.09, 1.08, 1.34])\n",
    "path_2 = np.array([1.00, 1.16, 1.26, 1.54])\n",
    "path_3 = np.array([1.00, 1.22, 1.07, 1.03])\n",
    "path_4 = np.array([1.00, 0.93, 0.97, 0.92])\n",
    "path_5 = np.array([1.00, 1.11, 1.56, 1.52])\n",
    "path_6 = np.array([1.00, 0.76, 0.77, 0.90])\n",
    "path_7 = np.array([1.00, 0.92, 0.84, 1.01])\n",
    "path_8 = np.array([1.00, 0.88, 1.22, 1.34])\n",
    "\n",
    "price_paths = [path_1, path_2, path_3, path_4, \n",
    "            path_5, path_6, path_7,path_8]\n",
    "\n",
    "            \n",
    "SS = pd.DataFrame(data=price_paths,\n",
    "                index=np.arange(1,8+1))\n",
    "\n"
   ]
  },
  {
   "cell_type": "code",
   "execution_count": 145,
   "metadata": {},
   "outputs": [],
   "source": [
    "def American_Put_Option_with_Price_table(S, K, df, M, I):\n",
    "    \n",
    "    cf = np.maximum(K - S, 0) \n",
    "    print(cf)\n",
    "    for t in range(M-1,0,-1):\n",
    "\n",
    "        table_t = pd.DataFrame({\"Y\":cf.iloc[:,t+1]*df, \"X\":S.iloc[:,t]})\n",
    "        id_money_t = S[S.iloc[:, t] < K].index\n",
    "        \n",
    "        table_t_inmoney=table_t.loc[id_money_t]\n",
    "\n",
    "# Regression of the X and Y at time 2 \n",
    "    \n",
    "        rg_t = np.polyfit(table_t_inmoney[\"X\"], table_t_inmoney[\"Y\"], 2)\n",
    "   \n",
    "        C_t = np.polyval(rg_t, S.loc[id_money_t].iloc[:,t])\n",
    "        cf.loc[id_money_t,2] = np.where(cf.loc[id_money_t].iloc[:,t] > C_t, \n",
    "            cf.loc[id_money_t].iloc[:,t], 0)\n",
    "\n",
    "\n",
    "        cf.loc[id_money_t,t] = np.where(cf.loc[id_money_t,t] > C_t, \n",
    "            cf.loc[id_money_t,t], 0)\n",
    "\n",
    "        cf.loc[id_money_t,t+1] = np.where(cf.loc[id_money_t,t] > 0, \n",
    "            0, cf.loc[id_money_t,t+1])\n",
    "\n",
    "\n",
    "    Sum_DCF = 0\n",
    "\n",
    "    for t in range(M,0,-1):\n",
    "    \n",
    "        Sum_DCF = sum(cf.loc[:,t]*df**t) + Sum_DCF\n",
    "\n",
    "    Option_Value1 = Sum_DCF/I\n",
    "\n",
    "    return(Option_Value1)\n",
    "\n",
    "    "
   ]
  },
  {
   "cell_type": "code",
   "execution_count": 146,
   "metadata": {},
   "outputs": [
    {
     "name": "stdout",
     "output_type": "stream",
     "text": [
      "     0         1         2         3         4         5         6         7   \\\n",
      "1   0.0  0.978547  1.370078  1.672774  1.382945  2.531859  3.027968  3.382711   \n",
      "2   0.0  0.000000  0.000000  0.000000  0.000000  0.000000  0.000000  0.000000   \n",
      "3   0.0  0.000000  0.396456  1.549780  1.802928  1.275332  2.017985  2.274380   \n",
      "4   0.0  0.000000  0.000000  0.000000  0.000000  0.000000  0.000000  0.000000   \n",
      "5   0.0  0.000000  0.000000  0.000000  0.000000  0.000000  0.000000  0.164379   \n",
      "6   0.0  0.000000  0.000000  0.000000  0.000000  0.000000  0.000000  0.000000   \n",
      "7   0.0  0.455365  1.344179  1.009248  2.343217  1.870292  0.730607  0.399042   \n",
      "8   0.0  0.644033  0.000000  0.000000  0.000000  0.000000  0.000000  0.000000   \n",
      "9   0.0  0.583183  1.231684  0.440463  0.873457  1.093173  1.340786  2.361283   \n",
      "10  0.0  0.869671  0.816274  0.155049  0.159074  0.602937  0.423792  0.000000   \n",
      "\n",
      "          8         9         10  \n",
      "1   3.374365  2.403020  2.275462  \n",
      "2   0.000000  0.000000  0.000000  \n",
      "3   2.010012  1.484865  1.733914  \n",
      "4   0.000000  0.000000  0.000000  \n",
      "5   0.000000  0.000000  0.000000  \n",
      "6   0.000000  0.000000  0.000000  \n",
      "7   0.526604  0.121942  0.370963  \n",
      "8   0.000000  0.000000  0.000000  \n",
      "9   2.441906  3.059043  3.221844  \n",
      "10  1.069254  1.208982  2.552858  \n",
      "9\n",
      "Int64Index([1, 3, 7, 9, 10], dtype='int64')\n",
      "8\n",
      "Int64Index([1, 3, 7, 9, 10], dtype='int64')\n",
      "7\n",
      "Int64Index([1, 3, 5, 7, 9], dtype='int64')\n",
      "6\n",
      "Int64Index([1, 3, 7, 9, 10], dtype='int64')\n",
      "5\n",
      "Int64Index([1, 3, 7, 9, 10], dtype='int64')\n",
      "4\n",
      "Int64Index([1, 3, 7, 9, 10], dtype='int64')\n",
      "3\n",
      "Int64Index([1, 3, 7, 9, 10], dtype='int64')\n",
      "2\n",
      "Int64Index([1, 3, 7, 9, 10], dtype='int64')\n",
      "1\n",
      "Int64Index([1, 7, 8, 9, 10], dtype='int64')\n"
     ]
    },
    {
     "data": {
      "text/plain": [
       "1.874244727706151"
      ]
     },
     "execution_count": 146,
     "metadata": {},
     "output_type": "execute_result"
    }
   ],
   "source": [
    "American_Put_Option_with_Price_table(S=SN, K=10, df=df, M=M, I=I)"
   ]
  },
  {
   "cell_type": "code",
   "execution_count": 138,
   "metadata": {},
   "outputs": [
    {
     "data": {
      "text/html": [
       "<div>\n",
       "<style scoped>\n",
       "    .dataframe tbody tr th:only-of-type {\n",
       "        vertical-align: middle;\n",
       "    }\n",
       "\n",
       "    .dataframe tbody tr th {\n",
       "        vertical-align: top;\n",
       "    }\n",
       "\n",
       "    .dataframe thead th {\n",
       "        text-align: right;\n",
       "    }\n",
       "</style>\n",
       "<table border=\"1\" class=\"dataframe\">\n",
       "  <thead>\n",
       "    <tr style=\"text-align: right;\">\n",
       "      <th></th>\n",
       "      <th>Y</th>\n",
       "      <th>X</th>\n",
       "    </tr>\n",
       "  </thead>\n",
       "  <tbody>\n",
       "    <tr>\n",
       "      <th>1</th>\n",
       "      <td>0.259421</td>\n",
       "      <td>7.596980</td>\n",
       "    </tr>\n",
       "    <tr>\n",
       "      <th>2</th>\n",
       "      <td>0.000000</td>\n",
       "      <td>10.661128</td>\n",
       "    </tr>\n",
       "    <tr>\n",
       "      <th>3</th>\n",
       "      <td>0.000000</td>\n",
       "      <td>8.515135</td>\n",
       "    </tr>\n",
       "    <tr>\n",
       "      <th>4</th>\n",
       "      <td>0.000000</td>\n",
       "      <td>15.172439</td>\n",
       "    </tr>\n",
       "    <tr>\n",
       "      <th>5</th>\n",
       "      <td>0.000000</td>\n",
       "      <td>11.979415</td>\n",
       "    </tr>\n",
       "    <tr>\n",
       "      <th>6</th>\n",
       "      <td>0.000000</td>\n",
       "      <td>13.862251</td>\n",
       "    </tr>\n",
       "    <tr>\n",
       "      <th>7</th>\n",
       "      <td>0.000000</td>\n",
       "      <td>9.878058</td>\n",
       "    </tr>\n",
       "    <tr>\n",
       "      <th>8</th>\n",
       "      <td>0.000000</td>\n",
       "      <td>12.367536</td>\n",
       "    </tr>\n",
       "    <tr>\n",
       "      <th>9</th>\n",
       "      <td>1.150690</td>\n",
       "      <td>6.940957</td>\n",
       "    </tr>\n",
       "    <tr>\n",
       "      <th>10</th>\n",
       "      <td>0.520662</td>\n",
       "      <td>8.791018</td>\n",
       "    </tr>\n",
       "  </tbody>\n",
       "</table>\n",
       "</div>"
      ],
      "text/plain": [
       "           Y          X\n",
       "1   0.259421   7.596980\n",
       "2   0.000000  10.661128\n",
       "3   0.000000   8.515135\n",
       "4   0.000000  15.172439\n",
       "5   0.000000  11.979415\n",
       "6   0.000000  13.862251\n",
       "7   0.000000   9.878058\n",
       "8   0.000000  12.367536\n",
       "9   1.150690   6.940957\n",
       "10  0.520662   8.791018"
      ]
     },
     "execution_count": 138,
     "metadata": {},
     "output_type": "execute_result"
    }
   ],
   "source": [
    "t = 9\n",
    "pd.DataFrame({\"Y\":cf.iloc[:,t+1]*df, \"X\":SN.iloc[:,t]})"
   ]
  },
  {
   "cell_type": "code",
   "execution_count": 131,
   "metadata": {},
   "outputs": [
    {
     "ename": "IndexError",
     "evalue": "single positional indexer is out-of-bounds",
     "output_type": "error",
     "traceback": [
      "\u001b[0;31m---------------------------------------------------------------------------\u001b[0m",
      "\u001b[0;31mIndexError\u001b[0m                                Traceback (most recent call last)",
      "\u001b[0;32m<ipython-input-131-79647a783dd4>\u001b[0m in \u001b[0;36m<module>\u001b[0;34m\u001b[0m\n\u001b[1;32m      2\u001b[0m \u001b[0mcf\u001b[0m\u001b[0;34m\u001b[0m\u001b[0;34m\u001b[0m\u001b[0m\n\u001b[1;32m      3\u001b[0m \u001b[0mt\u001b[0m \u001b[0;34m=\u001b[0m \u001b[0;36m9\u001b[0m\u001b[0;34m\u001b[0m\u001b[0;34m\u001b[0m\u001b[0m\n\u001b[0;32m----> 4\u001b[0;31m \u001b[0mtable_t\u001b[0m \u001b[0;34m=\u001b[0m \u001b[0mpd\u001b[0m\u001b[0;34m.\u001b[0m\u001b[0mDataFrame\u001b[0m\u001b[0;34m(\u001b[0m\u001b[0;34m{\u001b[0m\u001b[0;34m\"Y\"\u001b[0m\u001b[0;34m:\u001b[0m\u001b[0mcf\u001b[0m\u001b[0;34m.\u001b[0m\u001b[0miloc\u001b[0m\u001b[0;34m[\u001b[0m\u001b[0;34m:\u001b[0m\u001b[0;34m,\u001b[0m\u001b[0mt\u001b[0m\u001b[0;34m+\u001b[0m\u001b[0;36m1\u001b[0m\u001b[0;34m]\u001b[0m\u001b[0;34m*\u001b[0m\u001b[0mdf\u001b[0m\u001b[0;34m,\u001b[0m \u001b[0;34m\"X\"\u001b[0m\u001b[0;34m:\u001b[0m\u001b[0mSS\u001b[0m\u001b[0;34m.\u001b[0m\u001b[0miloc\u001b[0m\u001b[0;34m[\u001b[0m\u001b[0;34m:\u001b[0m\u001b[0;34m,\u001b[0m\u001b[0mt\u001b[0m\u001b[0;34m]\u001b[0m\u001b[0;34m}\u001b[0m\u001b[0;34m)\u001b[0m\u001b[0;34m\u001b[0m\u001b[0;34m\u001b[0m\u001b[0m\n\u001b[0m",
      "\u001b[0;32m~/miniconda3/envs/RL_finance/lib/python3.9/site-packages/pandas/core/indexing.py\u001b[0m in \u001b[0;36m__getitem__\u001b[0;34m(self, key)\u001b[0m\n\u001b[1;32m    887\u001b[0m                     \u001b[0;31m# AttributeError for IntervalTree get_value\u001b[0m\u001b[0;34m\u001b[0m\u001b[0;34m\u001b[0m\u001b[0m\n\u001b[1;32m    888\u001b[0m                     \u001b[0;32mreturn\u001b[0m \u001b[0mself\u001b[0m\u001b[0;34m.\u001b[0m\u001b[0mobj\u001b[0m\u001b[0;34m.\u001b[0m\u001b[0m_get_value\u001b[0m\u001b[0;34m(\u001b[0m\u001b[0;34m*\u001b[0m\u001b[0mkey\u001b[0m\u001b[0;34m,\u001b[0m \u001b[0mtakeable\u001b[0m\u001b[0;34m=\u001b[0m\u001b[0mself\u001b[0m\u001b[0;34m.\u001b[0m\u001b[0m_takeable\u001b[0m\u001b[0;34m)\u001b[0m\u001b[0;34m\u001b[0m\u001b[0;34m\u001b[0m\u001b[0m\n\u001b[0;32m--> 889\u001b[0;31m             \u001b[0;32mreturn\u001b[0m \u001b[0mself\u001b[0m\u001b[0;34m.\u001b[0m\u001b[0m_getitem_tuple\u001b[0m\u001b[0;34m(\u001b[0m\u001b[0mkey\u001b[0m\u001b[0;34m)\u001b[0m\u001b[0;34m\u001b[0m\u001b[0;34m\u001b[0m\u001b[0m\n\u001b[0m\u001b[1;32m    890\u001b[0m         \u001b[0;32melse\u001b[0m\u001b[0;34m:\u001b[0m\u001b[0;34m\u001b[0m\u001b[0;34m\u001b[0m\u001b[0m\n\u001b[1;32m    891\u001b[0m             \u001b[0;31m# we by definition only have the 0th axis\u001b[0m\u001b[0;34m\u001b[0m\u001b[0;34m\u001b[0m\u001b[0m\n",
      "\u001b[0;32m~/miniconda3/envs/RL_finance/lib/python3.9/site-packages/pandas/core/indexing.py\u001b[0m in \u001b[0;36m_getitem_tuple\u001b[0;34m(self, tup)\u001b[0m\n\u001b[1;32m   1448\u001b[0m     \u001b[0;32mdef\u001b[0m \u001b[0m_getitem_tuple\u001b[0m\u001b[0;34m(\u001b[0m\u001b[0mself\u001b[0m\u001b[0;34m,\u001b[0m \u001b[0mtup\u001b[0m\u001b[0;34m:\u001b[0m \u001b[0mTuple\u001b[0m\u001b[0;34m)\u001b[0m\u001b[0;34m:\u001b[0m\u001b[0;34m\u001b[0m\u001b[0;34m\u001b[0m\u001b[0m\n\u001b[1;32m   1449\u001b[0m \u001b[0;34m\u001b[0m\u001b[0m\n\u001b[0;32m-> 1450\u001b[0;31m         \u001b[0mself\u001b[0m\u001b[0;34m.\u001b[0m\u001b[0m_has_valid_tuple\u001b[0m\u001b[0;34m(\u001b[0m\u001b[0mtup\u001b[0m\u001b[0;34m)\u001b[0m\u001b[0;34m\u001b[0m\u001b[0;34m\u001b[0m\u001b[0m\n\u001b[0m\u001b[1;32m   1451\u001b[0m         \u001b[0;32mwith\u001b[0m \u001b[0msuppress\u001b[0m\u001b[0;34m(\u001b[0m\u001b[0mIndexingError\u001b[0m\u001b[0;34m)\u001b[0m\u001b[0;34m:\u001b[0m\u001b[0;34m\u001b[0m\u001b[0;34m\u001b[0m\u001b[0m\n\u001b[1;32m   1452\u001b[0m             \u001b[0;32mreturn\u001b[0m \u001b[0mself\u001b[0m\u001b[0;34m.\u001b[0m\u001b[0m_getitem_lowerdim\u001b[0m\u001b[0;34m(\u001b[0m\u001b[0mtup\u001b[0m\u001b[0;34m)\u001b[0m\u001b[0;34m\u001b[0m\u001b[0;34m\u001b[0m\u001b[0m\n",
      "\u001b[0;32m~/miniconda3/envs/RL_finance/lib/python3.9/site-packages/pandas/core/indexing.py\u001b[0m in \u001b[0;36m_has_valid_tuple\u001b[0;34m(self, key)\u001b[0m\n\u001b[1;32m    721\u001b[0m         \u001b[0;32mfor\u001b[0m \u001b[0mi\u001b[0m\u001b[0;34m,\u001b[0m \u001b[0mk\u001b[0m \u001b[0;32min\u001b[0m \u001b[0menumerate\u001b[0m\u001b[0;34m(\u001b[0m\u001b[0mkey\u001b[0m\u001b[0;34m)\u001b[0m\u001b[0;34m:\u001b[0m\u001b[0;34m\u001b[0m\u001b[0;34m\u001b[0m\u001b[0m\n\u001b[1;32m    722\u001b[0m             \u001b[0;32mtry\u001b[0m\u001b[0;34m:\u001b[0m\u001b[0;34m\u001b[0m\u001b[0;34m\u001b[0m\u001b[0m\n\u001b[0;32m--> 723\u001b[0;31m                 \u001b[0mself\u001b[0m\u001b[0;34m.\u001b[0m\u001b[0m_validate_key\u001b[0m\u001b[0;34m(\u001b[0m\u001b[0mk\u001b[0m\u001b[0;34m,\u001b[0m \u001b[0mi\u001b[0m\u001b[0;34m)\u001b[0m\u001b[0;34m\u001b[0m\u001b[0;34m\u001b[0m\u001b[0m\n\u001b[0m\u001b[1;32m    724\u001b[0m             \u001b[0;32mexcept\u001b[0m \u001b[0mValueError\u001b[0m \u001b[0;32mas\u001b[0m \u001b[0merr\u001b[0m\u001b[0;34m:\u001b[0m\u001b[0;34m\u001b[0m\u001b[0;34m\u001b[0m\u001b[0m\n\u001b[1;32m    725\u001b[0m                 raise ValueError(\n",
      "\u001b[0;32m~/miniconda3/envs/RL_finance/lib/python3.9/site-packages/pandas/core/indexing.py\u001b[0m in \u001b[0;36m_validate_key\u001b[0;34m(self, key, axis)\u001b[0m\n\u001b[1;32m   1356\u001b[0m             \u001b[0;32mreturn\u001b[0m\u001b[0;34m\u001b[0m\u001b[0;34m\u001b[0m\u001b[0m\n\u001b[1;32m   1357\u001b[0m         \u001b[0;32melif\u001b[0m \u001b[0mis_integer\u001b[0m\u001b[0;34m(\u001b[0m\u001b[0mkey\u001b[0m\u001b[0;34m)\u001b[0m\u001b[0;34m:\u001b[0m\u001b[0;34m\u001b[0m\u001b[0;34m\u001b[0m\u001b[0m\n\u001b[0;32m-> 1358\u001b[0;31m             \u001b[0mself\u001b[0m\u001b[0;34m.\u001b[0m\u001b[0m_validate_integer\u001b[0m\u001b[0;34m(\u001b[0m\u001b[0mkey\u001b[0m\u001b[0;34m,\u001b[0m \u001b[0maxis\u001b[0m\u001b[0;34m)\u001b[0m\u001b[0;34m\u001b[0m\u001b[0;34m\u001b[0m\u001b[0m\n\u001b[0m\u001b[1;32m   1359\u001b[0m         \u001b[0;32melif\u001b[0m \u001b[0misinstance\u001b[0m\u001b[0;34m(\u001b[0m\u001b[0mkey\u001b[0m\u001b[0;34m,\u001b[0m \u001b[0mtuple\u001b[0m\u001b[0;34m)\u001b[0m\u001b[0;34m:\u001b[0m\u001b[0;34m\u001b[0m\u001b[0;34m\u001b[0m\u001b[0m\n\u001b[1;32m   1360\u001b[0m             \u001b[0;31m# a tuple should already have been caught by this point\u001b[0m\u001b[0;34m\u001b[0m\u001b[0;34m\u001b[0m\u001b[0m\n",
      "\u001b[0;32m~/miniconda3/envs/RL_finance/lib/python3.9/site-packages/pandas/core/indexing.py\u001b[0m in \u001b[0;36m_validate_integer\u001b[0;34m(self, key, axis)\u001b[0m\n\u001b[1;32m   1442\u001b[0m         \u001b[0mlen_axis\u001b[0m \u001b[0;34m=\u001b[0m \u001b[0mlen\u001b[0m\u001b[0;34m(\u001b[0m\u001b[0mself\u001b[0m\u001b[0;34m.\u001b[0m\u001b[0mobj\u001b[0m\u001b[0;34m.\u001b[0m\u001b[0m_get_axis\u001b[0m\u001b[0;34m(\u001b[0m\u001b[0maxis\u001b[0m\u001b[0;34m)\u001b[0m\u001b[0;34m)\u001b[0m\u001b[0;34m\u001b[0m\u001b[0;34m\u001b[0m\u001b[0m\n\u001b[1;32m   1443\u001b[0m         \u001b[0;32mif\u001b[0m \u001b[0mkey\u001b[0m \u001b[0;34m>=\u001b[0m \u001b[0mlen_axis\u001b[0m \u001b[0;32mor\u001b[0m \u001b[0mkey\u001b[0m \u001b[0;34m<\u001b[0m \u001b[0;34m-\u001b[0m\u001b[0mlen_axis\u001b[0m\u001b[0;34m:\u001b[0m\u001b[0;34m\u001b[0m\u001b[0;34m\u001b[0m\u001b[0m\n\u001b[0;32m-> 1444\u001b[0;31m             \u001b[0;32mraise\u001b[0m \u001b[0mIndexError\u001b[0m\u001b[0;34m(\u001b[0m\u001b[0;34m\"single positional indexer is out-of-bounds\"\u001b[0m\u001b[0;34m)\u001b[0m\u001b[0;34m\u001b[0m\u001b[0;34m\u001b[0m\u001b[0m\n\u001b[0m\u001b[1;32m   1445\u001b[0m \u001b[0;34m\u001b[0m\u001b[0m\n\u001b[1;32m   1446\u001b[0m     \u001b[0;31m# -------------------------------------------------------------------\u001b[0m\u001b[0;34m\u001b[0m\u001b[0;34m\u001b[0m\u001b[0m\n",
      "\u001b[0;31mIndexError\u001b[0m: single positional indexer is out-of-bounds"
     ]
    }
   ],
   "source": [
    "cf = np.maximum(8 - SN, 0)\n",
    "cf \n",
    "t = 9\n",
    "table_t = pd.DataFrame({\"Y\":cf.iloc[:,t+1]*df, \"X\":SS.iloc[:,t]})"
   ]
  },
  {
   "cell_type": "code",
   "execution_count": 139,
   "metadata": {},
   "outputs": [
    {
     "name": "stdout",
     "output_type": "stream",
     "text": [
      "     0    1    2    3         4         5         6         7         8   \\\n",
      "1   0.0  0.0  0.0  0.0  0.000000  0.531859  1.027968  1.382711  1.374365   \n",
      "2   0.0  0.0  0.0  0.0  0.000000  0.000000  0.000000  0.000000  0.000000   \n",
      "3   0.0  0.0  0.0  0.0  0.000000  0.000000  0.017985  0.274380  0.010012   \n",
      "4   0.0  0.0  0.0  0.0  0.000000  0.000000  0.000000  0.000000  0.000000   \n",
      "5   0.0  0.0  0.0  0.0  0.000000  0.000000  0.000000  0.000000  0.000000   \n",
      "6   0.0  0.0  0.0  0.0  0.000000  0.000000  0.000000  0.000000  0.000000   \n",
      "7   0.0  0.0  0.0  0.0  0.343217  0.000000  0.000000  0.000000  0.000000   \n",
      "8   0.0  0.0  0.0  0.0  0.000000  0.000000  0.000000  0.000000  0.000000   \n",
      "9   0.0  0.0  0.0  0.0  0.000000  0.000000  0.000000  0.361283  0.441906   \n",
      "10  0.0  0.0  0.0  0.0  0.000000  0.000000  0.000000  0.000000  0.000000   \n",
      "\n",
      "          9         10  \n",
      "1   0.403020  0.275462  \n",
      "2   0.000000  0.000000  \n",
      "3   0.000000  0.000000  \n",
      "4   0.000000  0.000000  \n",
      "5   0.000000  0.000000  \n",
      "6   0.000000  0.000000  \n",
      "7   0.000000  0.000000  \n",
      "8   0.000000  0.000000  \n",
      "9   1.059043  1.221844  \n",
      "10  0.000000  0.552858  \n",
      "9\n"
     ]
    },
    {
     "ename": "IndexError",
     "evalue": "single positional indexer is out-of-bounds",
     "output_type": "error",
     "traceback": [
      "\u001b[0;31m---------------------------------------------------------------------------\u001b[0m",
      "\u001b[0;31mIndexError\u001b[0m                                Traceback (most recent call last)",
      "\u001b[0;32m<ipython-input-139-fbd663956281>\u001b[0m in \u001b[0;36m<module>\u001b[0;34m\u001b[0m\n\u001b[1;32m      1\u001b[0m \u001b[0mdf\u001b[0m \u001b[0;34m=\u001b[0m \u001b[0mnp\u001b[0m\u001b[0;34m.\u001b[0m\u001b[0mexp\u001b[0m\u001b[0;34m(\u001b[0m\u001b[0;34m-\u001b[0m\u001b[0;36m0.06\u001b[0m \u001b[0;34m*\u001b[0m \u001b[0;36m1\u001b[0m\u001b[0;34m)\u001b[0m\u001b[0;34m\u001b[0m\u001b[0;34m\u001b[0m\u001b[0m\n\u001b[0;32m----> 2\u001b[0;31m \u001b[0mAmerican_Put_Option_with_Price_table\u001b[0m\u001b[0;34m(\u001b[0m\u001b[0mS\u001b[0m\u001b[0;34m=\u001b[0m\u001b[0mSN\u001b[0m\u001b[0;34m,\u001b[0m \u001b[0mK\u001b[0m\u001b[0;34m=\u001b[0m\u001b[0;36m8\u001b[0m\u001b[0;34m,\u001b[0m \u001b[0mdf\u001b[0m\u001b[0;34m=\u001b[0m\u001b[0mdf\u001b[0m\u001b[0;34m,\u001b[0m \u001b[0mM\u001b[0m\u001b[0;34m=\u001b[0m\u001b[0mM\u001b[0m\u001b[0;34m,\u001b[0m \u001b[0mI\u001b[0m\u001b[0;34m=\u001b[0m\u001b[0mI\u001b[0m\u001b[0;34m)\u001b[0m\u001b[0;34m\u001b[0m\u001b[0;34m\u001b[0m\u001b[0m\n\u001b[0m",
      "\u001b[0;32m<ipython-input-137-1d802a9d724d>\u001b[0m in \u001b[0;36mAmerican_Put_Option_with_Price_table\u001b[0;34m(S, K, df, M, I)\u001b[0m\n\u001b[1;32m      6\u001b[0m         \u001b[0mprint\u001b[0m\u001b[0;34m(\u001b[0m\u001b[0mt\u001b[0m\u001b[0;34m)\u001b[0m\u001b[0;34m\u001b[0m\u001b[0;34m\u001b[0m\u001b[0m\n\u001b[1;32m      7\u001b[0m         \u001b[0mtable_t\u001b[0m \u001b[0;34m=\u001b[0m \u001b[0mpd\u001b[0m\u001b[0;34m.\u001b[0m\u001b[0mDataFrame\u001b[0m\u001b[0;34m(\u001b[0m\u001b[0;34m{\u001b[0m\u001b[0;34m\"Y\"\u001b[0m\u001b[0;34m:\u001b[0m\u001b[0mcf\u001b[0m\u001b[0;34m.\u001b[0m\u001b[0miloc\u001b[0m\u001b[0;34m[\u001b[0m\u001b[0;34m:\u001b[0m\u001b[0;34m,\u001b[0m\u001b[0mt\u001b[0m\u001b[0;34m+\u001b[0m\u001b[0;36m1\u001b[0m\u001b[0;34m]\u001b[0m\u001b[0;34m*\u001b[0m\u001b[0mdf\u001b[0m\u001b[0;34m,\u001b[0m \u001b[0;34m\"X\"\u001b[0m\u001b[0;34m:\u001b[0m\u001b[0mS\u001b[0m\u001b[0;34m.\u001b[0m\u001b[0miloc\u001b[0m\u001b[0;34m[\u001b[0m\u001b[0;34m:\u001b[0m\u001b[0;34m,\u001b[0m\u001b[0mt\u001b[0m\u001b[0;34m]\u001b[0m\u001b[0;34m}\u001b[0m\u001b[0;34m)\u001b[0m\u001b[0;34m\u001b[0m\u001b[0;34m\u001b[0m\u001b[0m\n\u001b[0;32m----> 8\u001b[0;31m         \u001b[0mid_money_t\u001b[0m \u001b[0;34m=\u001b[0m \u001b[0mSS\u001b[0m\u001b[0;34m[\u001b[0m\u001b[0mSS\u001b[0m\u001b[0;34m.\u001b[0m\u001b[0miloc\u001b[0m\u001b[0;34m[\u001b[0m\u001b[0;34m:\u001b[0m\u001b[0;34m,\u001b[0m \u001b[0mt\u001b[0m\u001b[0;34m]\u001b[0m \u001b[0;34m<\u001b[0m \u001b[0mK\u001b[0m\u001b[0;34m]\u001b[0m\u001b[0;34m.\u001b[0m\u001b[0mindex\u001b[0m\u001b[0;34m\u001b[0m\u001b[0;34m\u001b[0m\u001b[0m\n\u001b[0m\u001b[1;32m      9\u001b[0m         \u001b[0mprint\u001b[0m\u001b[0;34m(\u001b[0m\u001b[0mid_money_t\u001b[0m\u001b[0;34m)\u001b[0m\u001b[0;34m\u001b[0m\u001b[0;34m\u001b[0m\u001b[0m\n\u001b[1;32m     10\u001b[0m         \u001b[0mtable_t_inmoney\u001b[0m\u001b[0;34m=\u001b[0m\u001b[0mtable_t\u001b[0m\u001b[0;34m.\u001b[0m\u001b[0mloc\u001b[0m\u001b[0;34m[\u001b[0m\u001b[0mid_money_t\u001b[0m\u001b[0;34m]\u001b[0m\u001b[0;34m\u001b[0m\u001b[0;34m\u001b[0m\u001b[0m\n",
      "\u001b[0;32m~/miniconda3/envs/RL_finance/lib/python3.9/site-packages/pandas/core/indexing.py\u001b[0m in \u001b[0;36m__getitem__\u001b[0;34m(self, key)\u001b[0m\n\u001b[1;32m    887\u001b[0m                     \u001b[0;31m# AttributeError for IntervalTree get_value\u001b[0m\u001b[0;34m\u001b[0m\u001b[0;34m\u001b[0m\u001b[0m\n\u001b[1;32m    888\u001b[0m                     \u001b[0;32mreturn\u001b[0m \u001b[0mself\u001b[0m\u001b[0;34m.\u001b[0m\u001b[0mobj\u001b[0m\u001b[0;34m.\u001b[0m\u001b[0m_get_value\u001b[0m\u001b[0;34m(\u001b[0m\u001b[0;34m*\u001b[0m\u001b[0mkey\u001b[0m\u001b[0;34m,\u001b[0m \u001b[0mtakeable\u001b[0m\u001b[0;34m=\u001b[0m\u001b[0mself\u001b[0m\u001b[0;34m.\u001b[0m\u001b[0m_takeable\u001b[0m\u001b[0;34m)\u001b[0m\u001b[0;34m\u001b[0m\u001b[0;34m\u001b[0m\u001b[0m\n\u001b[0;32m--> 889\u001b[0;31m             \u001b[0;32mreturn\u001b[0m \u001b[0mself\u001b[0m\u001b[0;34m.\u001b[0m\u001b[0m_getitem_tuple\u001b[0m\u001b[0;34m(\u001b[0m\u001b[0mkey\u001b[0m\u001b[0;34m)\u001b[0m\u001b[0;34m\u001b[0m\u001b[0;34m\u001b[0m\u001b[0m\n\u001b[0m\u001b[1;32m    890\u001b[0m         \u001b[0;32melse\u001b[0m\u001b[0;34m:\u001b[0m\u001b[0;34m\u001b[0m\u001b[0;34m\u001b[0m\u001b[0m\n\u001b[1;32m    891\u001b[0m             \u001b[0;31m# we by definition only have the 0th axis\u001b[0m\u001b[0;34m\u001b[0m\u001b[0;34m\u001b[0m\u001b[0m\n",
      "\u001b[0;32m~/miniconda3/envs/RL_finance/lib/python3.9/site-packages/pandas/core/indexing.py\u001b[0m in \u001b[0;36m_getitem_tuple\u001b[0;34m(self, tup)\u001b[0m\n\u001b[1;32m   1448\u001b[0m     \u001b[0;32mdef\u001b[0m \u001b[0m_getitem_tuple\u001b[0m\u001b[0;34m(\u001b[0m\u001b[0mself\u001b[0m\u001b[0;34m,\u001b[0m \u001b[0mtup\u001b[0m\u001b[0;34m:\u001b[0m \u001b[0mTuple\u001b[0m\u001b[0;34m)\u001b[0m\u001b[0;34m:\u001b[0m\u001b[0;34m\u001b[0m\u001b[0;34m\u001b[0m\u001b[0m\n\u001b[1;32m   1449\u001b[0m \u001b[0;34m\u001b[0m\u001b[0m\n\u001b[0;32m-> 1450\u001b[0;31m         \u001b[0mself\u001b[0m\u001b[0;34m.\u001b[0m\u001b[0m_has_valid_tuple\u001b[0m\u001b[0;34m(\u001b[0m\u001b[0mtup\u001b[0m\u001b[0;34m)\u001b[0m\u001b[0;34m\u001b[0m\u001b[0;34m\u001b[0m\u001b[0m\n\u001b[0m\u001b[1;32m   1451\u001b[0m         \u001b[0;32mwith\u001b[0m \u001b[0msuppress\u001b[0m\u001b[0;34m(\u001b[0m\u001b[0mIndexingError\u001b[0m\u001b[0;34m)\u001b[0m\u001b[0;34m:\u001b[0m\u001b[0;34m\u001b[0m\u001b[0;34m\u001b[0m\u001b[0m\n\u001b[1;32m   1452\u001b[0m             \u001b[0;32mreturn\u001b[0m \u001b[0mself\u001b[0m\u001b[0;34m.\u001b[0m\u001b[0m_getitem_lowerdim\u001b[0m\u001b[0;34m(\u001b[0m\u001b[0mtup\u001b[0m\u001b[0;34m)\u001b[0m\u001b[0;34m\u001b[0m\u001b[0;34m\u001b[0m\u001b[0m\n",
      "\u001b[0;32m~/miniconda3/envs/RL_finance/lib/python3.9/site-packages/pandas/core/indexing.py\u001b[0m in \u001b[0;36m_has_valid_tuple\u001b[0;34m(self, key)\u001b[0m\n\u001b[1;32m    721\u001b[0m         \u001b[0;32mfor\u001b[0m \u001b[0mi\u001b[0m\u001b[0;34m,\u001b[0m \u001b[0mk\u001b[0m \u001b[0;32min\u001b[0m \u001b[0menumerate\u001b[0m\u001b[0;34m(\u001b[0m\u001b[0mkey\u001b[0m\u001b[0;34m)\u001b[0m\u001b[0;34m:\u001b[0m\u001b[0;34m\u001b[0m\u001b[0;34m\u001b[0m\u001b[0m\n\u001b[1;32m    722\u001b[0m             \u001b[0;32mtry\u001b[0m\u001b[0;34m:\u001b[0m\u001b[0;34m\u001b[0m\u001b[0;34m\u001b[0m\u001b[0m\n\u001b[0;32m--> 723\u001b[0;31m                 \u001b[0mself\u001b[0m\u001b[0;34m.\u001b[0m\u001b[0m_validate_key\u001b[0m\u001b[0;34m(\u001b[0m\u001b[0mk\u001b[0m\u001b[0;34m,\u001b[0m \u001b[0mi\u001b[0m\u001b[0;34m)\u001b[0m\u001b[0;34m\u001b[0m\u001b[0;34m\u001b[0m\u001b[0m\n\u001b[0m\u001b[1;32m    724\u001b[0m             \u001b[0;32mexcept\u001b[0m \u001b[0mValueError\u001b[0m \u001b[0;32mas\u001b[0m \u001b[0merr\u001b[0m\u001b[0;34m:\u001b[0m\u001b[0;34m\u001b[0m\u001b[0;34m\u001b[0m\u001b[0m\n\u001b[1;32m    725\u001b[0m                 raise ValueError(\n",
      "\u001b[0;32m~/miniconda3/envs/RL_finance/lib/python3.9/site-packages/pandas/core/indexing.py\u001b[0m in \u001b[0;36m_validate_key\u001b[0;34m(self, key, axis)\u001b[0m\n\u001b[1;32m   1356\u001b[0m             \u001b[0;32mreturn\u001b[0m\u001b[0;34m\u001b[0m\u001b[0;34m\u001b[0m\u001b[0m\n\u001b[1;32m   1357\u001b[0m         \u001b[0;32melif\u001b[0m \u001b[0mis_integer\u001b[0m\u001b[0;34m(\u001b[0m\u001b[0mkey\u001b[0m\u001b[0;34m)\u001b[0m\u001b[0;34m:\u001b[0m\u001b[0;34m\u001b[0m\u001b[0;34m\u001b[0m\u001b[0m\n\u001b[0;32m-> 1358\u001b[0;31m             \u001b[0mself\u001b[0m\u001b[0;34m.\u001b[0m\u001b[0m_validate_integer\u001b[0m\u001b[0;34m(\u001b[0m\u001b[0mkey\u001b[0m\u001b[0;34m,\u001b[0m \u001b[0maxis\u001b[0m\u001b[0;34m)\u001b[0m\u001b[0;34m\u001b[0m\u001b[0;34m\u001b[0m\u001b[0m\n\u001b[0m\u001b[1;32m   1359\u001b[0m         \u001b[0;32melif\u001b[0m \u001b[0misinstance\u001b[0m\u001b[0;34m(\u001b[0m\u001b[0mkey\u001b[0m\u001b[0;34m,\u001b[0m \u001b[0mtuple\u001b[0m\u001b[0;34m)\u001b[0m\u001b[0;34m:\u001b[0m\u001b[0;34m\u001b[0m\u001b[0;34m\u001b[0m\u001b[0m\n\u001b[1;32m   1360\u001b[0m             \u001b[0;31m# a tuple should already have been caught by this point\u001b[0m\u001b[0;34m\u001b[0m\u001b[0;34m\u001b[0m\u001b[0m\n",
      "\u001b[0;32m~/miniconda3/envs/RL_finance/lib/python3.9/site-packages/pandas/core/indexing.py\u001b[0m in \u001b[0;36m_validate_integer\u001b[0;34m(self, key, axis)\u001b[0m\n\u001b[1;32m   1442\u001b[0m         \u001b[0mlen_axis\u001b[0m \u001b[0;34m=\u001b[0m \u001b[0mlen\u001b[0m\u001b[0;34m(\u001b[0m\u001b[0mself\u001b[0m\u001b[0;34m.\u001b[0m\u001b[0mobj\u001b[0m\u001b[0;34m.\u001b[0m\u001b[0m_get_axis\u001b[0m\u001b[0;34m(\u001b[0m\u001b[0maxis\u001b[0m\u001b[0;34m)\u001b[0m\u001b[0;34m)\u001b[0m\u001b[0;34m\u001b[0m\u001b[0;34m\u001b[0m\u001b[0m\n\u001b[1;32m   1443\u001b[0m         \u001b[0;32mif\u001b[0m \u001b[0mkey\u001b[0m \u001b[0;34m>=\u001b[0m \u001b[0mlen_axis\u001b[0m \u001b[0;32mor\u001b[0m \u001b[0mkey\u001b[0m \u001b[0;34m<\u001b[0m \u001b[0;34m-\u001b[0m\u001b[0mlen_axis\u001b[0m\u001b[0;34m:\u001b[0m\u001b[0;34m\u001b[0m\u001b[0;34m\u001b[0m\u001b[0m\n\u001b[0;32m-> 1444\u001b[0;31m             \u001b[0;32mraise\u001b[0m \u001b[0mIndexError\u001b[0m\u001b[0;34m(\u001b[0m\u001b[0;34m\"single positional indexer is out-of-bounds\"\u001b[0m\u001b[0;34m)\u001b[0m\u001b[0;34m\u001b[0m\u001b[0;34m\u001b[0m\u001b[0m\n\u001b[0m\u001b[1;32m   1445\u001b[0m \u001b[0;34m\u001b[0m\u001b[0m\n\u001b[1;32m   1446\u001b[0m     \u001b[0;31m# -------------------------------------------------------------------\u001b[0m\u001b[0;34m\u001b[0m\u001b[0;34m\u001b[0m\u001b[0m\n",
      "\u001b[0;31mIndexError\u001b[0m: single positional indexer is out-of-bounds"
     ]
    }
   ],
   "source": [
    "df = np.exp(-0.06 * 1)\n",
    "American_Put_Option_with_Price_table(S=SN, K=8, df=df, M=M, I=I)"
   ]
  },
  {
   "cell_type": "code",
   "execution_count": 117,
   "metadata": {},
   "outputs": [
    {
     "data": {
      "text/plain": [
       "1     10.626522\n",
       "2     10.522928\n",
       "3     10.226849\n",
       "4     10.919838\n",
       "5     10.390678\n",
       "6     10.477758\n",
       "7     10.580907\n",
       "8     10.887237\n",
       "9     10.196317\n",
       "10    10.715579\n",
       "Name: 9, dtype: float64"
      ]
     },
     "execution_count": 117,
     "metadata": {},
     "output_type": "execute_result"
    }
   ],
   "source": [
    "SN.iloc[:, 9]"
   ]
  },
  {
   "cell_type": "code",
   "execution_count": 93,
   "metadata": {},
   "outputs": [
    {
     "name": "stdout",
     "output_type": "stream",
     "text": [
      "2\n",
      "1\n"
     ]
    }
   ],
   "source": [
    "for j in range(3-1,0,-1):\n",
    "    print(j)"
   ]
  },
  {
   "cell_type": "code",
   "execution_count": null,
   "metadata": {},
   "outputs": [],
   "source": []
  },
  {
   "cell_type": "code",
   "execution_count": null,
   "metadata": {},
   "outputs": [],
   "source": []
  },
  {
   "cell_type": "markdown",
   "metadata": {},
   "source": [
    "$$log^2(u)=\\frac{\\sigma^2T}{n}\t\\Rightarrow u=e^{{\\sigma}\\sqrt\\frac{T}{n}}$$"
   ]
  },
  {
   "cell_type": "markdown",
   "metadata": {},
   "source": [
    "$$qu+\\frac{1-q}{u}=e^{\\frac{rT}{n}} \\Rightarrow q= \\frac{u.e^{\\frac{rT}{n}}-1}{u^2-1}=\\frac{e^{\\frac{rT}{n}}-d}{u-d}$$"
   ]
  },
  {
   "cell_type": "markdown",
   "metadata": {},
   "source": [
    "### Binomial Tree -\n",
    "#### Case: Put Option"
   ]
  },
  {
   "cell_type": "code",
   "execution_count": null,
   "metadata": {},
   "outputs": [],
   "source": [
    "import numpy as np\n",
    "import pandas as pd\n",
    "from scipy.stats import norm\n"
   ]
  },
  {
   "cell_type": "code",
   "execution_count": null,
   "metadata": {},
   "outputs": [],
   "source": [
    "def binomial_put(S, K, T, r, vol, N):\n",
    "    \n",
    "    # Number of time steps\n",
    "    dt = T/N\n",
    "    \n",
    "    # u value \n",
    "    u =  np.exp(vol * np.sqrt(dt))\n",
    "    \n",
    "    # 1/u value\n",
    "    d = 1/u\n",
    "    \n",
    "    # \n",
    "    p = (np.exp(r * dt) - d)/(u - d)\n",
    "    \n",
    "    # probability of q\n",
    "    \n",
    "    # \n",
    "    C = {}\n",
    "\n",
    "    # Payoff in End node\n",
    "    for m in range(0, N+1):\n",
    "        C[(N, m)] = max(K - S * (u ** (2*m - N)), 0) #New payoff function for put options\n",
    "    \n",
    "    for k in range(N-1, -1, -1):\n",
    "\n",
    "        for m in range(0,k+1):\n",
    "\n",
    "            future_value = np.exp(-r * dt) * (p * C[(k+1, m+1)] + (1-p) * C[(k+1, m)])\n",
    "            exercise_value =  max(K - S * (u ** (2*m-k)),0)\n",
    "            C[(k, m)] = max(future_value, exercise_value)\n",
    "    \n",
    "    return C[(0,0)], C"
   ]
  },
  {
   "cell_type": "code",
   "execution_count": null,
   "metadata": {},
   "outputs": [],
   "source": [
    "C0, C = binomial_put(S=100, K=100, T=1, r=0.05, vol=0.25, N=10)"
   ]
  },
  {
   "cell_type": "markdown",
   "metadata": {},
   "source": [
    "## Least Square Mote Carlo "
   ]
  },
  {
   "cell_type": "code",
   "execution_count": null,
   "metadata": {},
   "outputs": [],
   "source": [
    "def C_to_DF_binomial(C, N):\n",
    "\n",
    "    DF_binomial = pd.DataFrame(index=range(N), columns=range(N))\n",
    "    \n",
    "    for key, val in C.items():\n",
    "        DF_binomial.loc[key[1], key[0]] = val\n",
    "    \n",
    "    return DF_binomial "
   ]
  },
  {
   "cell_type": "markdown",
   "metadata": {},
   "source": [
    "### Case: Call Option"
   ]
  },
  {
   "cell_type": "markdown",
   "metadata": {},
   "source": [
    "The Call option code is almost same the Put option, but this time we chnage the **Exercise Value**:\n",
    "to :"
   ]
  },
  {
   "cell_type": "markdown",
   "metadata": {},
   "source": [
    "$$max(Su^{2m-k}-K,0)$$"
   ]
  },
  {
   "cell_type": "code",
   "execution_count": null,
   "metadata": {},
   "outputs": [],
   "source": [
    "def binomial_call(S, K, T, r, vol, N):\n",
    "    \n",
    "    # Number of time steps\n",
    "    dt = T/N\n",
    "    \n",
    "    # u value \n",
    "    u =  np.exp(vol * np.sqrt(dt))\n",
    "    \n",
    "    # 1/u value\n",
    "    d = 1/u\n",
    "    \n",
    "    # \n",
    "    p = (np.exp(r * dt) - d)/(u - d)\n",
    "    \n",
    "    # probability of q\n",
    "    \n",
    "    # \n",
    "    C = {}\n",
    "\n",
    "    # Payoff in End node\n",
    "    for m in range(0, N+1):\n",
    "        C[(N, m)] = max(S * (u ** (2*m - N))-K, 0) #New payoff function for put options\n",
    "    \n",
    "    for k in range(N-1, -1, -1):\n",
    "\n",
    "        for m in range(0,k+1):\n",
    "\n",
    "            future_value = np.exp(-r * dt) * (p * C[(k+1, m+1)] + (1-p) * C[(k+1, m)])\n",
    "            exercise_value =  max(S * (u ** (2*m-k))-K,0)\n",
    "            C[(k, m)] = max(future_value, exercise_value)\n",
    "    \n",
    "    return C[(0,0)], C"
   ]
  },
  {
   "cell_type": "code",
   "execution_count": null,
   "metadata": {},
   "outputs": [],
   "source": [
    "S = np.zeros((M + 1, I), 'd')  # stock price matrix\n",
    "S[0, :] = S0  # intial values for stock price\n",
    "    for t in range(1, M + 1):\n",
    "        ran = np.random.standard_normal(I / 2)\n",
    "        ran = np.concatenate((ran, -ran))  # antithetic variates\n",
    "        ran = ran - np.mean(ran)  # correct first moment\n",
    "        ran = ran / np.std(ran)  # correct second moment\n",
    "        S[t, :] = S[t - 1, :] * np.exp((r - vol ** 2 / 2) * dt\n",
    "                        + vol * ran * np.sqrt(dt))"
   ]
  },
  {
   "cell_type": "code",
   "execution_count": 118,
   "metadata": {},
   "outputs": [],
   "source": [
    "M = 10\n",
    "I = 10\n",
    "S0 = 10\n",
    "T =1\n",
    "dt = T/M\n",
    "r = 0.06\n",
    "vol = 0.25\n",
    "S = np.zeros((I , M+1), 'd')  # stock price matrix\n",
    "S[:,0 ] = S0\n",
    "for t in range(1, I + 1):\n",
    "        ran = np.random.standard_normal(int(I / 2))\n",
    "        ran = np.concatenate((ran, -ran))  # antithetic variates\n",
    "        ran = ran - np.mean(ran)  # correct first moment\n",
    "        ran = ran / np.std(ran)  # correct second moment\n",
    "        S[:, t] = S[:, t - 1] * np.exp((r - vol ** 2 / 2) * dt\n",
    "                        + vol * ran * np.sqrt(dt))"
   ]
  },
  {
   "cell_type": "code",
   "execution_count": 119,
   "metadata": {},
   "outputs": [],
   "source": [
    "SN = S"
   ]
  },
  {
   "cell_type": "code",
   "execution_count": 120,
   "metadata": {},
   "outputs": [
    {
     "data": {
      "text/html": [
       "<div>\n",
       "<style scoped>\n",
       "    .dataframe tbody tr th:only-of-type {\n",
       "        vertical-align: middle;\n",
       "    }\n",
       "\n",
       "    .dataframe tbody tr th {\n",
       "        vertical-align: top;\n",
       "    }\n",
       "\n",
       "    .dataframe thead th {\n",
       "        text-align: right;\n",
       "    }\n",
       "</style>\n",
       "<table border=\"1\" class=\"dataframe\">\n",
       "  <thead>\n",
       "    <tr style=\"text-align: right;\">\n",
       "      <th></th>\n",
       "      <th>0</th>\n",
       "      <th>1</th>\n",
       "      <th>2</th>\n",
       "      <th>3</th>\n",
       "      <th>4</th>\n",
       "      <th>5</th>\n",
       "      <th>6</th>\n",
       "      <th>7</th>\n",
       "      <th>8</th>\n",
       "      <th>9</th>\n",
       "      <th>10</th>\n",
       "    </tr>\n",
       "  </thead>\n",
       "  <tbody>\n",
       "    <tr>\n",
       "      <th>1</th>\n",
       "      <td>10.0</td>\n",
       "      <td>9.021453</td>\n",
       "      <td>8.629922</td>\n",
       "      <td>8.327226</td>\n",
       "      <td>8.617055</td>\n",
       "      <td>7.468141</td>\n",
       "      <td>6.972032</td>\n",
       "      <td>6.617289</td>\n",
       "      <td>6.625635</td>\n",
       "      <td>7.596980</td>\n",
       "      <td>7.724538</td>\n",
       "    </tr>\n",
       "    <tr>\n",
       "      <th>2</th>\n",
       "      <td>10.0</td>\n",
       "      <td>10.537507</td>\n",
       "      <td>11.686545</td>\n",
       "      <td>11.316069</td>\n",
       "      <td>13.364184</td>\n",
       "      <td>12.659339</td>\n",
       "      <td>11.166880</td>\n",
       "      <td>10.843407</td>\n",
       "      <td>11.052788</td>\n",
       "      <td>10.661128</td>\n",
       "      <td>10.999909</td>\n",
       "    </tr>\n",
       "    <tr>\n",
       "      <th>3</th>\n",
       "      <td>10.0</td>\n",
       "      <td>10.750002</td>\n",
       "      <td>9.603544</td>\n",
       "      <td>8.450220</td>\n",
       "      <td>8.197072</td>\n",
       "      <td>8.724668</td>\n",
       "      <td>7.982015</td>\n",
       "      <td>7.725620</td>\n",
       "      <td>7.989988</td>\n",
       "      <td>8.515135</td>\n",
       "      <td>8.266086</td>\n",
       "    </tr>\n",
       "    <tr>\n",
       "      <th>4</th>\n",
       "      <td>10.0</td>\n",
       "      <td>10.680536</td>\n",
       "      <td>11.536610</td>\n",
       "      <td>10.642771</td>\n",
       "      <td>11.211984</td>\n",
       "      <td>11.554814</td>\n",
       "      <td>11.953764</td>\n",
       "      <td>13.628873</td>\n",
       "      <td>13.853683</td>\n",
       "      <td>15.172439</td>\n",
       "      <td>15.626452</td>\n",
       "    </tr>\n",
       "    <tr>\n",
       "      <th>5</th>\n",
       "      <td>10.0</td>\n",
       "      <td>11.015666</td>\n",
       "      <td>11.014771</td>\n",
       "      <td>10.334228</td>\n",
       "      <td>10.398072</td>\n",
       "      <td>10.952010</td>\n",
       "      <td>10.809102</td>\n",
       "      <td>9.835621</td>\n",
       "      <td>11.724378</td>\n",
       "      <td>11.979415</td>\n",
       "      <td>14.222709</td>\n",
       "    </tr>\n",
       "    <tr>\n",
       "      <th>6</th>\n",
       "      <td>10.0</td>\n",
       "      <td>11.148609</td>\n",
       "      <td>11.721617</td>\n",
       "      <td>12.217751</td>\n",
       "      <td>11.874899</td>\n",
       "      <td>13.780770</td>\n",
       "      <td>14.846489</td>\n",
       "      <td>15.732591</td>\n",
       "      <td>15.803381</td>\n",
       "      <td>13.862251</td>\n",
       "      <td>13.711957</td>\n",
       "    </tr>\n",
       "    <tr>\n",
       "      <th>7</th>\n",
       "      <td>10.0</td>\n",
       "      <td>9.544635</td>\n",
       "      <td>8.655821</td>\n",
       "      <td>8.990752</td>\n",
       "      <td>7.656783</td>\n",
       "      <td>8.129708</td>\n",
       "      <td>9.269393</td>\n",
       "      <td>9.600958</td>\n",
       "      <td>9.473396</td>\n",
       "      <td>9.878058</td>\n",
       "      <td>9.629037</td>\n",
       "    </tr>\n",
       "    <tr>\n",
       "      <th>8</th>\n",
       "      <td>10.0</td>\n",
       "      <td>9.355967</td>\n",
       "      <td>10.533262</td>\n",
       "      <td>12.039919</td>\n",
       "      <td>12.483317</td>\n",
       "      <td>11.796062</td>\n",
       "      <td>12.967929</td>\n",
       "      <td>13.475565</td>\n",
       "      <td>13.104830</td>\n",
       "      <td>12.367536</td>\n",
       "      <td>12.813625</td>\n",
       "    </tr>\n",
       "    <tr>\n",
       "      <th>9</th>\n",
       "      <td>10.0</td>\n",
       "      <td>9.416817</td>\n",
       "      <td>8.768316</td>\n",
       "      <td>9.559537</td>\n",
       "      <td>9.126543</td>\n",
       "      <td>8.906827</td>\n",
       "      <td>8.659214</td>\n",
       "      <td>7.638717</td>\n",
       "      <td>7.558094</td>\n",
       "      <td>6.940957</td>\n",
       "      <td>6.778156</td>\n",
       "    </tr>\n",
       "    <tr>\n",
       "      <th>10</th>\n",
       "      <td>10.0</td>\n",
       "      <td>9.130329</td>\n",
       "      <td>9.183726</td>\n",
       "      <td>9.844951</td>\n",
       "      <td>9.840926</td>\n",
       "      <td>9.397063</td>\n",
       "      <td>9.576208</td>\n",
       "      <td>10.584700</td>\n",
       "      <td>8.930746</td>\n",
       "      <td>8.791018</td>\n",
       "      <td>7.447142</td>\n",
       "    </tr>\n",
       "  </tbody>\n",
       "</table>\n",
       "</div>"
      ],
      "text/plain": [
       "      0          1          2          3          4          5          6   \\\n",
       "1   10.0   9.021453   8.629922   8.327226   8.617055   7.468141   6.972032   \n",
       "2   10.0  10.537507  11.686545  11.316069  13.364184  12.659339  11.166880   \n",
       "3   10.0  10.750002   9.603544   8.450220   8.197072   8.724668   7.982015   \n",
       "4   10.0  10.680536  11.536610  10.642771  11.211984  11.554814  11.953764   \n",
       "5   10.0  11.015666  11.014771  10.334228  10.398072  10.952010  10.809102   \n",
       "6   10.0  11.148609  11.721617  12.217751  11.874899  13.780770  14.846489   \n",
       "7   10.0   9.544635   8.655821   8.990752   7.656783   8.129708   9.269393   \n",
       "8   10.0   9.355967  10.533262  12.039919  12.483317  11.796062  12.967929   \n",
       "9   10.0   9.416817   8.768316   9.559537   9.126543   8.906827   8.659214   \n",
       "10  10.0   9.130329   9.183726   9.844951   9.840926   9.397063   9.576208   \n",
       "\n",
       "           7          8          9          10  \n",
       "1    6.617289   6.625635   7.596980   7.724538  \n",
       "2   10.843407  11.052788  10.661128  10.999909  \n",
       "3    7.725620   7.989988   8.515135   8.266086  \n",
       "4   13.628873  13.853683  15.172439  15.626452  \n",
       "5    9.835621  11.724378  11.979415  14.222709  \n",
       "6   15.732591  15.803381  13.862251  13.711957  \n",
       "7    9.600958   9.473396   9.878058   9.629037  \n",
       "8   13.475565  13.104830  12.367536  12.813625  \n",
       "9    7.638717   7.558094   6.940957   6.778156  \n",
       "10  10.584700   8.930746   8.791018   7.447142  "
      ]
     },
     "execution_count": 120,
     "metadata": {},
     "output_type": "execute_result"
    }
   ],
   "source": [
    "SN = pd.DataFrame(data=S,\n",
    "                index=np.arange(1,I+1))\n",
    "\n",
    "SN"
   ]
  },
  {
   "cell_type": "code",
   "execution_count": null,
   "metadata": {},
   "outputs": [],
   "source": []
  },
  {
   "cell_type": "code",
   "execution_count": 70,
   "metadata": {},
   "outputs": [
    {
     "data": {
      "text/plain": [
       "array([10., 10., 10., 10., 10., 10., 10., 10., 10., 10., 10.])"
      ]
     },
     "execution_count": 70,
     "metadata": {},
     "output_type": "execute_result"
    }
   ],
   "source": [
    "S[:, 1 - 1] "
   ]
  },
  {
   "cell_type": "code",
   "execution_count": 65,
   "metadata": {},
   "outputs": [
    {
     "data": {
      "text/plain": [
       "array([-0.69417275,  1.5551647 ,  1.03374526,  0.87549939,  0.51425531,\n",
       "        0.69417275, -1.5551647 , -1.03374526, -0.87549939, -0.51425531])"
      ]
     },
     "execution_count": 65,
     "metadata": {},
     "output_type": "execute_result"
    }
   ],
   "source": [
    "I = 10\n",
    "ran = np.random.standard_normal(int(I / 2))\n",
    "ran = np.concatenate((ran, -ran))  # antithetic variates\n",
    "ran = ran - np.mean(ran)  # correct first moment\n",
    "ran = ran / np.std(ran)  \n",
    "ran"
   ]
  },
  {
   "cell_type": "code",
   "execution_count": 33,
   "metadata": {},
   "outputs": [],
   "source": [
    "cf = np.maximum(K - SS, 0) \n",
    "df =  df = np.exp(-0.06 * 1)          # dicount factor based on 6% riskless rate\n",
    "for t in range(2,0,-1):\n",
    "\n",
    "    table_t = pd.DataFrame({\"Y\":cf.iloc[:,t+1]*df, \"X\":SS.iloc[:,t]})\n",
    "    id_money_t = SS[SS.iloc[:, t] < K].index\n",
    "    table_t_inmoney=table_t.loc[id_money_t]\n",
    "\n",
    "# Regression of the X and Y at time 2 \n",
    "    \n",
    "    rg_t = np.polyfit(table_t_inmoney[\"X\"], table_t_inmoney[\"Y\"], 2)\n",
    "   \n",
    "    C_t = np.polyval(rg_t, SS.loc[id_money_t].iloc[:,t])\n",
    "    cf.loc[id_money_t,2] = np.where(cf.loc[id_money_t].iloc[:,t] > C_t, \n",
    "        cf.loc[id_money_t].iloc[:,t], 0)\n",
    "\n",
    "\n",
    "    cf.loc[id_money_t,t] = np.where(cf.loc[id_money_t,t] > C_t, \n",
    "        cf.loc[id_money_t,t], 0)\n",
    "\n",
    "    cf.loc[id_money_t,t+1] = np.where(cf.loc[id_money_t,t] > 0, \n",
    "        0, cf.loc[id_money_t,t+1])\n",
    "\n",
    "\n",
    "Sum_DCF = 0\n",
    "for t in range(3,0,-1):\n",
    "    \n",
    "    Sum_DCF = sum(cf.loc[:,t]*df**t) + Sum_DCF\n",
    "\n",
    "\n",
    "Option_Value1 = Sum_DCF/8\n"
   ]
  },
  {
   "cell_type": "code",
   "execution_count": 63,
   "metadata": {},
   "outputs": [
    {
     "ename": "IndexError",
     "evalue": "positional indexers are out-of-bounds",
     "output_type": "error",
     "traceback": [
      "\u001b[0;31m---------------------------------------------------------------------------\u001b[0m",
      "\u001b[0;31mIndexError\u001b[0m                                Traceback (most recent call last)",
      "\u001b[0;32m<ipython-input-63-6b4408f0ad84>\u001b[0m in \u001b[0;36m<module>\u001b[0;34m\u001b[0m\n\u001b[0;32m----> 1\u001b[0;31m \u001b[0mAmerican_Put_Option_with_Price_table\u001b[0m\u001b[0;34m(\u001b[0m\u001b[0mS\u001b[0m\u001b[0;34m=\u001b[0m\u001b[0mS\u001b[0m\u001b[0;34m,\u001b[0m \u001b[0mK\u001b[0m\u001b[0;34m=\u001b[0m\u001b[0mK\u001b[0m\u001b[0;34m,\u001b[0m \u001b[0mdf\u001b[0m\u001b[0;34m=\u001b[0m\u001b[0mdf\u001b[0m\u001b[0;34m,\u001b[0m \u001b[0mM\u001b[0m\u001b[0;34m=\u001b[0m\u001b[0;36m3\u001b[0m\u001b[0;34m)\u001b[0m\u001b[0;34m\u001b[0m\u001b[0;34m\u001b[0m\u001b[0m\n\u001b[0m",
      "\u001b[0;32m<ipython-input-62-283a06f36d76>\u001b[0m in \u001b[0;36mAmerican_Put_Option_with_Price_table\u001b[0;34m(S, K, df, M)\u001b[0m\n\u001b[1;32m     17\u001b[0m         \u001b[0mC_t\u001b[0m \u001b[0;34m=\u001b[0m \u001b[0mnp\u001b[0m\u001b[0;34m.\u001b[0m\u001b[0mpolyval\u001b[0m\u001b[0;34m(\u001b[0m\u001b[0mrg_t\u001b[0m\u001b[0;34m,\u001b[0m \u001b[0mS\u001b[0m\u001b[0;34m.\u001b[0m\u001b[0mloc\u001b[0m\u001b[0;34m[\u001b[0m\u001b[0mid_money_t\u001b[0m\u001b[0;34m]\u001b[0m\u001b[0;34m.\u001b[0m\u001b[0miloc\u001b[0m\u001b[0;34m[\u001b[0m\u001b[0;34m:\u001b[0m\u001b[0;34m,\u001b[0m\u001b[0mt\u001b[0m\u001b[0;34m]\u001b[0m\u001b[0;34m)\u001b[0m\u001b[0;34m\u001b[0m\u001b[0;34m\u001b[0m\u001b[0m\n\u001b[1;32m     18\u001b[0m \u001b[0;34m\u001b[0m\u001b[0m\n\u001b[0;32m---> 19\u001b[0;31m         cf.iloc[id_money_t,t] = np.where(cf.iloc[id_money_t,t] > C_t, \n\u001b[0m\u001b[1;32m     20\u001b[0m             cf.iloc[id_money_t,t], 0)\n\u001b[1;32m     21\u001b[0m \u001b[0;34m\u001b[0m\u001b[0m\n",
      "\u001b[0;32m~/miniconda3/envs/RL_finance/lib/python3.9/site-packages/pandas/core/indexing.py\u001b[0m in \u001b[0;36m__getitem__\u001b[0;34m(self, key)\u001b[0m\n\u001b[1;32m    887\u001b[0m                     \u001b[0;31m# AttributeError for IntervalTree get_value\u001b[0m\u001b[0;34m\u001b[0m\u001b[0;34m\u001b[0m\u001b[0m\n\u001b[1;32m    888\u001b[0m                     \u001b[0;32mreturn\u001b[0m \u001b[0mself\u001b[0m\u001b[0;34m.\u001b[0m\u001b[0mobj\u001b[0m\u001b[0;34m.\u001b[0m\u001b[0m_get_value\u001b[0m\u001b[0;34m(\u001b[0m\u001b[0;34m*\u001b[0m\u001b[0mkey\u001b[0m\u001b[0;34m,\u001b[0m \u001b[0mtakeable\u001b[0m\u001b[0;34m=\u001b[0m\u001b[0mself\u001b[0m\u001b[0;34m.\u001b[0m\u001b[0m_takeable\u001b[0m\u001b[0;34m)\u001b[0m\u001b[0;34m\u001b[0m\u001b[0;34m\u001b[0m\u001b[0m\n\u001b[0;32m--> 889\u001b[0;31m             \u001b[0;32mreturn\u001b[0m \u001b[0mself\u001b[0m\u001b[0;34m.\u001b[0m\u001b[0m_getitem_tuple\u001b[0m\u001b[0;34m(\u001b[0m\u001b[0mkey\u001b[0m\u001b[0;34m)\u001b[0m\u001b[0;34m\u001b[0m\u001b[0;34m\u001b[0m\u001b[0m\n\u001b[0m\u001b[1;32m    890\u001b[0m         \u001b[0;32melse\u001b[0m\u001b[0;34m:\u001b[0m\u001b[0;34m\u001b[0m\u001b[0;34m\u001b[0m\u001b[0m\n\u001b[1;32m    891\u001b[0m             \u001b[0;31m# we by definition only have the 0th axis\u001b[0m\u001b[0;34m\u001b[0m\u001b[0;34m\u001b[0m\u001b[0m\n",
      "\u001b[0;32m~/miniconda3/envs/RL_finance/lib/python3.9/site-packages/pandas/core/indexing.py\u001b[0m in \u001b[0;36m_getitem_tuple\u001b[0;34m(self, tup)\u001b[0m\n\u001b[1;32m   1448\u001b[0m     \u001b[0;32mdef\u001b[0m \u001b[0m_getitem_tuple\u001b[0m\u001b[0;34m(\u001b[0m\u001b[0mself\u001b[0m\u001b[0;34m,\u001b[0m \u001b[0mtup\u001b[0m\u001b[0;34m:\u001b[0m \u001b[0mTuple\u001b[0m\u001b[0;34m)\u001b[0m\u001b[0;34m:\u001b[0m\u001b[0;34m\u001b[0m\u001b[0;34m\u001b[0m\u001b[0m\n\u001b[1;32m   1449\u001b[0m \u001b[0;34m\u001b[0m\u001b[0m\n\u001b[0;32m-> 1450\u001b[0;31m         \u001b[0mself\u001b[0m\u001b[0;34m.\u001b[0m\u001b[0m_has_valid_tuple\u001b[0m\u001b[0;34m(\u001b[0m\u001b[0mtup\u001b[0m\u001b[0;34m)\u001b[0m\u001b[0;34m\u001b[0m\u001b[0;34m\u001b[0m\u001b[0m\n\u001b[0m\u001b[1;32m   1451\u001b[0m         \u001b[0;32mwith\u001b[0m \u001b[0msuppress\u001b[0m\u001b[0;34m(\u001b[0m\u001b[0mIndexingError\u001b[0m\u001b[0;34m)\u001b[0m\u001b[0;34m:\u001b[0m\u001b[0;34m\u001b[0m\u001b[0;34m\u001b[0m\u001b[0m\n\u001b[1;32m   1452\u001b[0m             \u001b[0;32mreturn\u001b[0m \u001b[0mself\u001b[0m\u001b[0;34m.\u001b[0m\u001b[0m_getitem_lowerdim\u001b[0m\u001b[0;34m(\u001b[0m\u001b[0mtup\u001b[0m\u001b[0;34m)\u001b[0m\u001b[0;34m\u001b[0m\u001b[0;34m\u001b[0m\u001b[0m\n",
      "\u001b[0;32m~/miniconda3/envs/RL_finance/lib/python3.9/site-packages/pandas/core/indexing.py\u001b[0m in \u001b[0;36m_has_valid_tuple\u001b[0;34m(self, key)\u001b[0m\n\u001b[1;32m    721\u001b[0m         \u001b[0;32mfor\u001b[0m \u001b[0mi\u001b[0m\u001b[0;34m,\u001b[0m \u001b[0mk\u001b[0m \u001b[0;32min\u001b[0m \u001b[0menumerate\u001b[0m\u001b[0;34m(\u001b[0m\u001b[0mkey\u001b[0m\u001b[0;34m)\u001b[0m\u001b[0;34m:\u001b[0m\u001b[0;34m\u001b[0m\u001b[0;34m\u001b[0m\u001b[0m\n\u001b[1;32m    722\u001b[0m             \u001b[0;32mtry\u001b[0m\u001b[0;34m:\u001b[0m\u001b[0;34m\u001b[0m\u001b[0;34m\u001b[0m\u001b[0m\n\u001b[0;32m--> 723\u001b[0;31m                 \u001b[0mself\u001b[0m\u001b[0;34m.\u001b[0m\u001b[0m_validate_key\u001b[0m\u001b[0;34m(\u001b[0m\u001b[0mk\u001b[0m\u001b[0;34m,\u001b[0m \u001b[0mi\u001b[0m\u001b[0;34m)\u001b[0m\u001b[0;34m\u001b[0m\u001b[0;34m\u001b[0m\u001b[0m\n\u001b[0m\u001b[1;32m    724\u001b[0m             \u001b[0;32mexcept\u001b[0m \u001b[0mValueError\u001b[0m \u001b[0;32mas\u001b[0m \u001b[0merr\u001b[0m\u001b[0;34m:\u001b[0m\u001b[0;34m\u001b[0m\u001b[0;34m\u001b[0m\u001b[0m\n\u001b[1;32m    725\u001b[0m                 raise ValueError(\n",
      "\u001b[0;32m~/miniconda3/envs/RL_finance/lib/python3.9/site-packages/pandas/core/indexing.py\u001b[0m in \u001b[0;36m_validate_key\u001b[0;34m(self, key, axis)\u001b[0m\n\u001b[1;32m   1371\u001b[0m             \u001b[0;31m# check that the key does not exceed the maximum size of the index\u001b[0m\u001b[0;34m\u001b[0m\u001b[0;34m\u001b[0m\u001b[0m\n\u001b[1;32m   1372\u001b[0m             \u001b[0;32mif\u001b[0m \u001b[0mlen\u001b[0m\u001b[0;34m(\u001b[0m\u001b[0marr\u001b[0m\u001b[0;34m)\u001b[0m \u001b[0;32mand\u001b[0m \u001b[0;34m(\u001b[0m\u001b[0marr\u001b[0m\u001b[0;34m.\u001b[0m\u001b[0mmax\u001b[0m\u001b[0;34m(\u001b[0m\u001b[0;34m)\u001b[0m \u001b[0;34m>=\u001b[0m \u001b[0mlen_axis\u001b[0m \u001b[0;32mor\u001b[0m \u001b[0marr\u001b[0m\u001b[0;34m.\u001b[0m\u001b[0mmin\u001b[0m\u001b[0;34m(\u001b[0m\u001b[0;34m)\u001b[0m \u001b[0;34m<\u001b[0m \u001b[0;34m-\u001b[0m\u001b[0mlen_axis\u001b[0m\u001b[0;34m)\u001b[0m\u001b[0;34m:\u001b[0m\u001b[0;34m\u001b[0m\u001b[0;34m\u001b[0m\u001b[0m\n\u001b[0;32m-> 1373\u001b[0;31m                 \u001b[0;32mraise\u001b[0m \u001b[0mIndexError\u001b[0m\u001b[0;34m(\u001b[0m\u001b[0;34m\"positional indexers are out-of-bounds\"\u001b[0m\u001b[0;34m)\u001b[0m\u001b[0;34m\u001b[0m\u001b[0;34m\u001b[0m\u001b[0m\n\u001b[0m\u001b[1;32m   1374\u001b[0m         \u001b[0;32melse\u001b[0m\u001b[0;34m:\u001b[0m\u001b[0;34m\u001b[0m\u001b[0;34m\u001b[0m\u001b[0m\n\u001b[1;32m   1375\u001b[0m             \u001b[0;32mraise\u001b[0m \u001b[0mValueError\u001b[0m\u001b[0;34m(\u001b[0m\u001b[0;34mf\"Can only index by location with a [{self._valid_types}]\"\u001b[0m\u001b[0;34m)\u001b[0m\u001b[0;34m\u001b[0m\u001b[0;34m\u001b[0m\u001b[0m\n",
      "\u001b[0;31mIndexError\u001b[0m: positional indexers are out-of-bounds"
     ]
    }
   ],
   "source": [
    "American_Put_Option_with_Price_table(S=S, K=K, df=df, M=3)"
   ]
  },
  {
   "cell_type": "code",
   "execution_count": 59,
   "metadata": {},
   "outputs": [
    {
     "data": {
      "text/html": [
       "<div>\n",
       "<style scoped>\n",
       "    .dataframe tbody tr th:only-of-type {\n",
       "        vertical-align: middle;\n",
       "    }\n",
       "\n",
       "    .dataframe tbody tr th {\n",
       "        vertical-align: top;\n",
       "    }\n",
       "\n",
       "    .dataframe thead th {\n",
       "        text-align: right;\n",
       "    }\n",
       "</style>\n",
       "<table border=\"1\" class=\"dataframe\">\n",
       "  <thead>\n",
       "    <tr style=\"text-align: right;\">\n",
       "      <th></th>\n",
       "      <th>t=0</th>\n",
       "      <th>t=1</th>\n",
       "      <th>t=2</th>\n",
       "      <th>t=3</th>\n",
       "    </tr>\n",
       "    <tr>\n",
       "      <th>Path</th>\n",
       "      <th></th>\n",
       "      <th></th>\n",
       "      <th></th>\n",
       "      <th></th>\n",
       "    </tr>\n",
       "  </thead>\n",
       "  <tbody>\n",
       "    <tr>\n",
       "      <th>1</th>\n",
       "      <td>1.0</td>\n",
       "      <td>1.09</td>\n",
       "      <td>1.08</td>\n",
       "      <td>1.34</td>\n",
       "    </tr>\n",
       "    <tr>\n",
       "      <th>2</th>\n",
       "      <td>1.0</td>\n",
       "      <td>1.16</td>\n",
       "      <td>1.26</td>\n",
       "      <td>1.54</td>\n",
       "    </tr>\n",
       "    <tr>\n",
       "      <th>3</th>\n",
       "      <td>1.0</td>\n",
       "      <td>1.22</td>\n",
       "      <td>1.07</td>\n",
       "      <td>1.03</td>\n",
       "    </tr>\n",
       "    <tr>\n",
       "      <th>4</th>\n",
       "      <td>1.0</td>\n",
       "      <td>0.93</td>\n",
       "      <td>0.97</td>\n",
       "      <td>0.92</td>\n",
       "    </tr>\n",
       "    <tr>\n",
       "      <th>5</th>\n",
       "      <td>1.0</td>\n",
       "      <td>1.11</td>\n",
       "      <td>1.56</td>\n",
       "      <td>1.52</td>\n",
       "    </tr>\n",
       "    <tr>\n",
       "      <th>6</th>\n",
       "      <td>1.0</td>\n",
       "      <td>0.76</td>\n",
       "      <td>0.77</td>\n",
       "      <td>0.90</td>\n",
       "    </tr>\n",
       "    <tr>\n",
       "      <th>7</th>\n",
       "      <td>1.0</td>\n",
       "      <td>0.92</td>\n",
       "      <td>0.84</td>\n",
       "      <td>1.01</td>\n",
       "    </tr>\n",
       "    <tr>\n",
       "      <th>8</th>\n",
       "      <td>1.0</td>\n",
       "      <td>0.88</td>\n",
       "      <td>1.22</td>\n",
       "      <td>1.34</td>\n",
       "    </tr>\n",
       "  </tbody>\n",
       "</table>\n",
       "</div>"
      ],
      "text/plain": [
       "      t=0   t=1   t=2   t=3\n",
       "Path                       \n",
       "1     1.0  1.09  1.08  1.34\n",
       "2     1.0  1.16  1.26  1.54\n",
       "3     1.0  1.22  1.07  1.03\n",
       "4     1.0  0.93  0.97  0.92\n",
       "5     1.0  1.11  1.56  1.52\n",
       "6     1.0  0.76  0.77  0.90\n",
       "7     1.0  0.92  0.84  1.01\n",
       "8     1.0  0.88  1.22  1.34"
      ]
     },
     "execution_count": 59,
     "metadata": {},
     "output_type": "execute_result"
    }
   ],
   "source": [
    "S"
   ]
  },
  {
   "cell_type": "code",
   "execution_count": null,
   "metadata": {},
   "outputs": [],
   "source": [
    "\n",
    "print(\"The value of American Put Option is: %.4f\" % (Option_Value))\n",
    "# I am Here\n",
    "def optionValue(S0, vol, T, K=40, M=50, I=4096, r=0.06):\n",
    "    import numpy as np\n",
    "    np.random.seed(150000)  # fix the seed for every valuation\n",
    "    dt = T / M  # time interval\n",
    "    df = np.exp(-r * dt)  # discount factor per time time interval\n",
    "    # Simulation of Index Levels\n",
    "    S = np.zeros((M + 1, I), 'd')  # stock price matrix\n",
    "    S[0, :] = S0  # intial values for stock price\n",
    "    for t in range(1, M + 1):\n",
    "        ran = np.random.standard_normal(I / 2)\n",
    "        ran = np.concatenate((ran, -ran))  # antithetic variates\n",
    "        ran = ran - np.mean(ran)  # correct first moment\n",
    "        ran = ran / np.std(ran)  # correct second moment\n",
    "        S[t, :] = S[t - 1, :] * np.exp((r - vol ** 2 / 2) * dt\n",
    "                        + vol * ran * np.sqrt(dt))\n",
    "    h = np.maximum(K - S, 0)  # inner values for put option\n",
    "    V = np.zeros_like(h)  # value matrix\n",
    "    V[-1] = h[-1]\n",
    "    # Valuation by LSM\n",
    "    for t in range(M - 1, 0, -1):\n",
    "        rg = np.polyfit(S[t, :], V[t + 1, :] * df, 5)  # regression\n",
    "        C = np.polyval(rg, S[t, :])  # evaluation of regression\n",
    "        V[t, :] = np.where(h[t, :] > C, h[t, :],\n",
    "                         V[t + 1, :] * df)  # exercise decision/optimization\n",
    "    V0 = np.sum(V[1, :] * df) / I  # LSM estimator\n",
    "    print \"S0 %4.1f|vol %4.2f|T %2.1f| Option Value %8.3f\" % (S0, vol, T, V0)\n",
    "    return V0"
   ]
  },
  {
   "cell_type": "code",
   "execution_count": null,
   "metadata": {},
   "outputs": [],
   "source": [
    "# Spot Price\n",
    "S_val = 100\n",
    "# Strike Price\n",
    "K_val = 100\n",
    "# Time Period\n",
    "T_val = 1\n",
    "# risk-free rate\n",
    "r_val = 0.05\n",
    "# volatility rate\n",
    "vol_val = 0.25\n",
    "# Number of steps\n",
    "num_steps_val = 1000 "
   ]
  },
  {
   "cell_type": "code",
   "execution_count": null,
   "metadata": {},
   "outputs": [],
   "source": [
    "C0, C = binomial_call(S=S_val,K=K_val, T=T_val, r=r_val, vol=vol_val, N=num_steps_val)"
   ]
  },
  {
   "cell_type": "code",
   "execution_count": null,
   "metadata": {},
   "outputs": [],
   "source": [
    "print(f\"The Price of American Call Option is = {C0:.3f}\")"
   ]
  },
  {
   "cell_type": "code",
   "execution_count": null,
   "metadata": {},
   "outputs": [],
   "source": [
    "def european_price(S, K, T, r, vol ,is_call: bool):\n",
    "    \n",
    "    sigma_sqrt: float = vol * np.sqrt(T)\n",
    "    \n",
    "    d1 = (np.log(S / K) +\n",
    "                     (r + vol ** 2 / 2.) * T) / sigma_sqrt\n",
    "    d2 = d1 - sigma_sqrt\n",
    "    \n",
    "    if is_call:\n",
    "            ret = S * norm.cdf(d1) - \\\n",
    "                K * np.exp(-r * T) * norm.cdf(d2)\n",
    "    else:\n",
    "            ret = K * np.exp(-r * T) * norm.cdf(-d2) - \\\n",
    "                S * norm.cdf(-d1)\n",
    "    return ret"
   ]
  },
  {
   "cell_type": "code",
   "execution_count": null,
   "metadata": {},
   "outputs": [],
   "source": [
    "european_price(S=S_val, K=K_val, T=T_val, r=r_val, vol=vol_val,is_call=True)"
   ]
  }
 ],
 "metadata": {
  "interpreter": {
   "hash": "db20e6f1942dfa4018b4af75e23db50481c856c6659b4817212817b5bdc762e4"
  },
  "kernelspec": {
   "display_name": "Python 3 (ipykernel)",
   "language": "python",
   "name": "python3"
  },
  "language_info": {
   "codemirror_mode": {
    "name": "ipython",
    "version": 3
   },
   "file_extension": ".py",
   "mimetype": "text/x-python",
   "name": "python",
   "nbconvert_exporter": "python",
   "pygments_lexer": "ipython3",
   "version": "3.9.7"
  }
 },
 "nbformat": 4,
 "nbformat_minor": 4
}
